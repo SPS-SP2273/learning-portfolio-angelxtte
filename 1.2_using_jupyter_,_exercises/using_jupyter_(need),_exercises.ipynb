{
 "cells": [
  {
   "attachments": {},
   "cell_type": "markdown",
   "id": "123456",
   "metadata": {},
   "source": [
    "<div style=\"text-align:left;font-size:2em\"><span style=\"font-weight:bolder;font-size:1.25em\">SP2273 | Learning Portfolio</span><br><br><span style=\"font-weight:bold;color:darkred\">Using Jupyter (Need), Exercises</span></div>"
   ]
  },
  {
   "cell_type": "markdown",
   "id": "438fc721",
   "metadata": {},
   "source": [
    "# Exercise 1"
   ]
  },
  {
   "attachments": {},
   "cell_type": "markdown",
   "id": "123456",
   "metadata": {},
   "source": [
    "## 1 Quadratic Equations"
   ]
  },
  {
   "attachments": {},
   "cell_type": "markdown",
   "id": "123456",
   "metadata": {},
   "source": [
    "### Introduction"
   ]
  },
  {
   "cell_type": "markdown",
   "id": "123456",
   "metadata": {},
   "source": [
    "![](https://upload.wikimedia.org/wikipedia/commons/f/f8/Polynomialdeg2.svg)\n",
    "\n",
    "(*Image from the [Wikipedia page on Quadratic equations](https://en.wikipedia.org/wiki/Quadratic_equation)*)\n",
    "\n",
    "The general form of a quadratic equation is:\n",
    "\n",
    "$ax^2 + bx + c = 0$\n"
   ]
  },
  {
   "attachments": {},
   "cell_type": "markdown",
   "id": "123456",
   "metadata": {},
   "source": [
    "### Solutions"
   ]
  },
  {
   "cell_type": "markdown",
   "id": "123456",
   "metadata": {},
   "source": [
    "Provided $a \\ne 0$, we can use an elementary algebraic method called [completing the square](https://en.wikipedia.org/wiki/Completing_the_square) to show that a quadratic equation has the following solution:\n",
    "\n",
    "$x = \\frac{-b \\pm \\sqrt{b^2 - 4ac}}{2a} $"
   ]
  },
  {
   "attachments": {},
   "cell_type": "markdown",
   "id": "123456",
   "metadata": {},
   "source": [
    "### Discriminant"
   ]
  },
  {
   "cell_type": "markdown",
   "id": "123456",
   "metadata": {},
   "source": [
    "The quantity $\\Delta = b^2 - 4ac$ is called the **discriminant** of the equation and decides the nature of its solutions. The table below shows the various possibilities.\n",
    "\n",
    "|Discriminant|Roots|\n",
    "|:----------:|:-----------|\n",
    "|$\\Delta = b^2 - 4ac = 0$| A single solution of $-b/2a$|\n",
    "|$\\Delta = b^2 - 4ac > 0$| Two distinct solutions|\n",
    "|$\\Delta = b^2 - 4ac < 0$| No real solutions; both are complex.|\n",
    "\n"
   ]
  },
  {
   "cell_type": "markdown",
   "id": "baf6a97c",
   "metadata": {},
   "source": [
    "# Exercise 2\n",
    "1. What is a Git **repository**?\n",
    "\n",
    "A git repository is a virtual storage of a project and its files and other related documents.\n",
    "\n",
    "2. Git keeps track of ____BLANK____ in the files in our repository.\n",
    "\n",
    "Git keeps track of changes in the files in our repository.\n",
    "\n",
    "3. What is a **commit**?\n",
    "\n",
    "A commit is a confirmation and record of the updates and changes to files within the repository.\n",
    "\n",
    "4. What is a **push**?\n",
    "\n",
    "A push is the updating of the Git repository when there are any changes to the local repository.\n",
    "\n",
    "5. What is a **pull**?\n",
    "\n",
    "A pull is the updating of the local repository when there are any changes to the Git repository.\n",
    "\n",
    "6. What is the difference between **GitHub** and **GitHub Desktop**?\n",
    "\n",
    "GitHub manages the virtual repository which can be accessed by other people, while GitHub Desktop manages the local repository, and can be used to update one repository when changes are made in the other repository. "
   ]
  },
  {
   "cell_type": "markdown",
   "id": "db70ec3f",
   "metadata": {},
   "source": [
    "# Exercise 3\n",
    "\n",
    "$\\mu = \\frac{1}{n}\\sum_{i=1}^{n}x_i$\n",
    "\n",
    "$\\sigma = \\sqrt{\\frac{1}{n}\\sum_{i=1}^{n}(x_i - \\mu)^2}$\n",
    "\n",
    "$r = \\frac{\\sum_{i=1}^{n}(x_i - \\mu_{X})(y_i - \\mu_{Y})}{\\sqrt{\\sum_{i=1}^{n}(x_i - \\mu_X)^2\\sum_{i=1}^{n}(y_i - \\mu_Y)^2}}$"
   ]
  }
 ],
 "metadata": {
  "kernelspec": {
   "display_name": "base",
   "language": "python",
   "name": "python3"
  },
  "language_info": {
   "codemirror_mode": {
    "name": "ipython",
    "version": 3
   },
   "file_extension": ".py",
   "mimetype": "text/x-python",
   "name": "python",
   "nbconvert_exporter": "python",
   "pygments_lexer": "ipython3",
   "version": "3.13.5"
  },
  "toc": {
   "base_numbering": 1,
   "nav_menu": {},
   "number_sections": true,
   "sideBar": true,
   "skip_h1_title": false,
   "title_cell": "Table of Contents",
   "title_sidebar": "Contents",
   "toc_cell": false,
   "toc_position": {},
   "toc_section_display": true,
   "toc_window_display": false
  }
 },
 "nbformat": 4,
 "nbformat_minor": 5
}
