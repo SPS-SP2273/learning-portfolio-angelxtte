{
 "cells": [
  {
   "attachments": {},
   "cell_type": "markdown",
   "id": "123456",
   "metadata": {},
   "source": [
    "<div style=\"text-align:left;font-size:2em\"><span style=\"font-weight:bolder;font-size:1.25em\">SP2273 | Learning Portfolio</span><br><br><span style=\"font-weight:bold;color:darkred\">Loops (Need) Exercises</span></div>"
   ]
  },
  {
   "cell_type": "markdown",
   "id": "3dde4f3f",
   "metadata": {},
   "source": [
    "# Exercise 1"
   ]
  },
  {
   "cell_type": "code",
   "execution_count": 6,
   "id": "66910621",
   "metadata": {},
   "outputs": [
    {
     "name": "stdout",
     "output_type": "stream",
     "text": [
      "Celsius: 0.0, Fahrenheit: 32.0\n",
      "Celsius: 5.0, Fahrenheit: 41.0\n",
      "Celsius: 10.0, Fahrenheit: 50.0\n",
      "Celsius: 15.0, Fahrenheit: 59.0\n",
      "Celsius: 20.0, Fahrenheit: 68.0\n",
      "Celsius: 25.0, Fahrenheit: 77.0\n",
      "Celsius: 30.0, Fahrenheit: 86.0\n",
      "Celsius: 35.0, Fahrenheit: 95.0\n",
      "Celsius: 40.0, Fahrenheit: 104.0\n",
      "Celsius: 45.0, Fahrenheit: 113.0\n",
      "Celsius: 50.0, Fahrenheit: 122.0\n"
     ]
    }
   ],
   "source": [
    "temperatures_celsius = [0, 5, 10, 15, 20, 25, 30, 35, 40, 45, 50]\n",
    "for i in temperatures_celsius:\n",
    "    print(f\"Celsius: {float(i)}, Fahrenheit: {i * 1.8 + 32}\")"
   ]
  },
  {
   "cell_type": "markdown",
   "id": "57d6e29b",
   "metadata": {},
   "source": [
    "# Exercise 2"
   ]
  },
  {
   "cell_type": "code",
   "execution_count": 6,
   "id": "8e25ed61",
   "metadata": {},
   "outputs": [
    {
     "name": "stdout",
     "output_type": "stream",
     "text": [
      "1 : 1   2   3   4   5   \n",
      "\n",
      "2 : 2   4   6   8   10  \n",
      "\n",
      "3 : 3   6   9   12  15  \n",
      "\n",
      "4 : 4   8   12  16  20  \n",
      "\n",
      "5 : 5   10  15  20  25  \n",
      "\n"
     ]
    }
   ],
   "source": [
    "for x in range(1, 6):\n",
    "    print(f\"{x} :\", end = \" \")\n",
    "    for y in range(1, 6):\n",
    "        print(f\"{x*y:<3}\", end = \" \")\n",
    "    print(\"\\n\")"
   ]
  },
  {
   "cell_type": "markdown",
   "id": "81a78391",
   "metadata": {},
   "source": [
    "# Exercise 3"
   ]
  },
  {
   "cell_type": "code",
   "execution_count": 43,
   "id": "c57c9cbd",
   "metadata": {},
   "outputs": [
    {
     "name": "stdout",
     "output_type": "stream",
     "text": [
      "Experiment  1: No. of Heads = 2!\n",
      "Experiment  2: No. of Heads = 4!\n",
      "Experiment  3: No. of Heads = 4!\n",
      "Experiment  4: No. of Heads = 4!\n",
      "Experiment  5: No. of Heads = 5!\n",
      "Experiment  6: No. of Heads = 2!\n",
      "Experiment  7: No. of Heads = 4!\n",
      "Experiment  8: No. of Heads = 6!\n",
      "Experiment  9: No. of Heads = 4!\n",
      "Experiment 10: No. of Heads = 6!\n"
     ]
    }
   ],
   "source": [
    "import numpy as np\n",
    "for x in range(1, 11):\n",
    "    heads = 0\n",
    "    for i in np.random.rand(10):\n",
    "        if i > 0.5:\n",
    "            heads += 1\n",
    "    print(f\"Experiment {x:>2}: No. of Heads = {heads}!\")\n"
   ]
  }
 ],
 "metadata": {
  "kernelspec": {
   "display_name": "base",
   "language": "python",
   "name": "python3"
  },
  "language_info": {
   "codemirror_mode": {
    "name": "ipython",
    "version": 3
   },
   "file_extension": ".py",
   "mimetype": "text/x-python",
   "name": "python",
   "nbconvert_exporter": "python",
   "pygments_lexer": "ipython3",
   "version": "3.13.5"
  },
  "toc": {
   "base_numbering": 1,
   "nav_menu": {},
   "number_sections": true,
   "sideBar": true,
   "skip_h1_title": false,
   "title_cell": "Table of Contents",
   "title_sidebar": "Contents",
   "toc_cell": false,
   "toc_position": {},
   "toc_section_display": true,
   "toc_window_display": false
  }
 },
 "nbformat": 4,
 "nbformat_minor": 5
}
