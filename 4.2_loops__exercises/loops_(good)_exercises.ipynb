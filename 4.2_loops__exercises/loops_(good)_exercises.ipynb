{
 "cells": [
  {
   "attachments": {},
   "cell_type": "markdown",
   "id": "123456",
   "metadata": {},
   "source": [
    "<div style=\"text-align:left;font-size:2em\"><span style=\"font-weight:bolder;font-size:1.25em\">SP2273 | Learning Portfolio</span><br><br><span style=\"font-weight:bold;color:darkred\">Loops (Good) Exercises</span></div>"
   ]
  },
  {
   "cell_type": "markdown",
   "id": "ba2e3802",
   "metadata": {},
   "source": [
    "# Exercise 1"
   ]
  },
  {
   "cell_type": "code",
   "execution_count": 10,
   "id": "72825312",
   "metadata": {},
   "outputs": [
    {
     "name": "stdout",
     "output_type": "stream",
     "text": [
      "[1, 9, 25, 49, 81]\n"
     ]
    }
   ],
   "source": [
    "squares = []\n",
    "for i in range(0, 10):\n",
    "    if i % 2 == 0:\n",
    "        continue\n",
    "    squares.append(i ** 2)\n",
    "print(squares)"
   ]
  },
  {
   "cell_type": "markdown",
   "id": "100124ee",
   "metadata": {},
   "source": [
    "# Exercise 2"
   ]
  },
  {
   "cell_type": "code",
   "execution_count": 11,
   "id": "2abab8db",
   "metadata": {},
   "outputs": [
    {
     "name": "stdout",
     "output_type": "stream",
     "text": [
      "[1, 9, 25, 49, 81]\n"
     ]
    }
   ],
   "source": [
    "squares = [i ** 2 for i in range(0, 10) if i % 2 != 0]\n",
    "print(squares)"
   ]
  },
  {
   "cell_type": "markdown",
   "id": "214442cb",
   "metadata": {},
   "source": [
    "# Exercise 3"
   ]
  },
  {
   "cell_type": "code",
   "execution_count": 13,
   "id": "c927da0f",
   "metadata": {},
   "outputs": [
    {
     "name": "stdout",
     "output_type": "stream",
     "text": [
      "1.25 μs ± 19.8 ns per loop (mean ± std. dev. of 7 runs, 1,000,000 loops each)\n"
     ]
    }
   ],
   "source": [
    "%%timeit\n",
    "squares = []\n",
    "for i in range(0, 10):\n",
    "    if i % 2 == 0:\n",
    "        continue\n",
    "    squares.append(i**2)"
   ]
  },
  {
   "cell_type": "code",
   "execution_count": 15,
   "id": "e7284a0c",
   "metadata": {},
   "outputs": [
    {
     "name": "stdout",
     "output_type": "stream",
     "text": [
      "1.15 μs ± 19.4 ns per loop (mean ± std. dev. of 7 runs, 1,000,000 loops each)\n"
     ]
    }
   ],
   "source": [
    "%%timeit\n",
    "squares = [i ** 2 for i in range(0, 10) if i % 2 != 0]"
   ]
  },
  {
   "cell_type": "markdown",
   "id": "b6d11875",
   "metadata": {},
   "source": [
    "The list comprehension is faster. This is likely because the ```for``` loop has to keep referring to the ```squares``` list when appending."
   ]
  },
  {
   "cell_type": "markdown",
   "id": "2f5e8a35",
   "metadata": {},
   "source": [
    "# Exercise 4"
   ]
  },
  {
   "cell_type": "code",
   "execution_count": 6,
   "id": "21872e57",
   "metadata": {},
   "outputs": [
    {
     "name": "stdout",
     "output_type": "stream",
     "text": [
      "It took 13.513407185438863 years for the sample to reduce to half its original amount.\n"
     ]
    }
   ],
   "source": [
    "import math\n",
    "quantity = 100\n",
    "decay_per_second = (math.e)**(math.log(0.95)/(365*24*60*60))\n",
    "seconds = 0\n",
    "while quantity > 50:\n",
    "    quantity *= decay_per_second\n",
    "    seconds += 1\n",
    "else:\n",
    "    print(f\"It took {seconds / (365*24*60*60)} years for the sample to reduce to half its original amount.\")"
   ]
  },
  {
   "cell_type": "markdown",
   "id": "351b8558",
   "metadata": {},
   "source": [
    "# Exercise 5"
   ]
  },
  {
   "cell_type": "code",
   "execution_count": 2,
   "id": "c04c03b8",
   "metadata": {},
   "outputs": [
    {
     "name": "stdout",
     "output_type": "stream",
     "text": [
      "The year 2016 showed an increase of 3.41 ppm from 2015.\n"
     ]
    }
   ],
   "source": [
    "co2_data = [\n",
    "    (2000, 369.55), (2001, 371.14), (2002, 373.28), \n",
    "    (2003, 375.80), (2004, 377.52), (2005, 379.80), \n",
    "    (2006, 381.90), (2007, 383.79), (2008, 385.60), \n",
    "    (2009, 387.43), (2010, 389.90), (2011, 391.65), \n",
    "    (2012, 393.85), (2013, 396.52), (2014, 398.65),\n",
    "    (2015, 400.83), (2016, 404.24), (2017, 406.55), \n",
    "    (2018, 408.52), (2019, 411.44), (2020, 414.24)\n",
    "]\n",
    "\n",
    "for i in range(len(co2_data)-1):\n",
    "        if (co2_data[i+1][1] - co2_data[i][1]) >= 3:\n",
    "            print(f\"The year {co2_data[i+1][0]} showed an increase of {co2_data[i+1][1] - co2_data[i][1]:.2f} ppm from {co2_data[i][0]}.\")"
   ]
  }
 ],
 "metadata": {
  "kernelspec": {
   "display_name": "base",
   "language": "python",
   "name": "python3"
  },
  "language_info": {
   "codemirror_mode": {
    "name": "ipython",
    "version": 3
   },
   "file_extension": ".py",
   "mimetype": "text/x-python",
   "name": "python",
   "nbconvert_exporter": "python",
   "pygments_lexer": "ipython3",
   "version": "3.13.5"
  },
  "toc": {
   "base_numbering": 1,
   "nav_menu": {},
   "number_sections": true,
   "sideBar": true,
   "skip_h1_title": false,
   "title_cell": "Table of Contents",
   "title_sidebar": "Contents",
   "toc_cell": false,
   "toc_position": {},
   "toc_section_display": true,
   "toc_window_display": false
  }
 },
 "nbformat": 4,
 "nbformat_minor": 5
}
