{
 "cells": [
  {
   "attachments": {},
   "cell_type": "markdown",
   "id": "123456",
   "metadata": {},
   "source": [
    "<div style=\"text-align:left;font-size:2em\"><span style=\"font-weight:bolder;font-size:1.25em\">SP2273 | Learning Portfolio</span><br><br><span style=\"font-weight:bold;color:darkred\">Storing Data (Good)</span></div>"
   ]
  },
  {
   "cell_type": "code",
   "execution_count": 2,
   "id": "b1e81951",
   "metadata": {},
   "outputs": [],
   "source": [
    "import numpy as np"
   ]
  },
  {
   "attachments": {},
   "cell_type": "markdown",
   "id": "123456",
   "metadata": {},
   "source": [
    "# What to expect in this chapter"
   ]
  },
  {
   "attachments": {},
   "cell_type": "markdown",
   "id": "123456",
   "metadata": {},
   "source": [
    "# 1 Subsetting: Indexing and Slicing"
   ]
  },
  {
   "cell_type": "markdown",
   "id": "cd54802c",
   "metadata": {},
   "source": [
    "Subsetting means to \"select\" something from a list or array.\n",
    "\n",
    "Indexing refers to selecting one element within a list or array.\n",
    "\n",
    "Slicing refers to selecting a range of elements within a list or arrays."
   ]
  },
  {
   "attachments": {},
   "cell_type": "markdown",
   "id": "123456",
   "metadata": {},
   "source": [
    "## 1.1 Lists & Arrays in 1D | Subsetting & Indexing"
   ]
  },
  {
   "cell_type": "code",
   "execution_count": 7,
   "id": "6f9bd201",
   "metadata": {},
   "outputs": [
    {
     "name": "stdout",
     "output_type": "stream",
     "text": [
      "0\n",
      "9\n",
      "[0 1 2]\n",
      "[1 3]\n",
      "[5 6 7 8 9]\n",
      "[0 1 2 3 4]\n",
      "[4 3]\n",
      "[9 8 7 6 5 4 3 2 1 0]\n"
     ]
    }
   ],
   "source": [
    "py_list = [0, 1, 2, 3, 4, 5, 6, 7, 8, 9]\n",
    "np_array = np.array(py_list)\n",
    "x = np_array\n",
    "\n",
    "print(x[0]) # First Element\n",
    "print(x[-1]) # Last Element\n",
    "print(x[0:3]) # First to Third Element\n",
    "print(x[1:4:2]) # Second to Fourth Element in steps of 2\n",
    "print(x[5:]) # Sixth Element to Last Element\n",
    "print(x[:5]) # First to Fifth Element\n",
    "print(x[4:2:-1]) # Fourth to Third Element (i.e. in reverse)\n",
    "print(x[::-1]) # Reverse the entire list\n"
   ]
  },
  {
   "attachments": {},
   "cell_type": "markdown",
   "id": "123456",
   "metadata": {},
   "source": [
    "## 1.2 Arrays only | Subsetting by masking"
   ]
  },
  {
   "cell_type": "markdown",
   "id": "e55f39e1",
   "metadata": {},
   "source": [
    "Subsetting by masking is one of the most powerful things that NumPy arrays can do. Masks will always have True or False as elements, and they will have the same structure as the original NumPy array itself. When subsetting by masking, a new NumPy array with the elements that correspond to the True values in the mask will be returned."
   ]
  },
  {
   "cell_type": "code",
   "execution_count": 10,
   "id": "a067c65c",
   "metadata": {},
   "outputs": [
    {
     "name": "stdout",
     "output_type": "stream",
     "text": [
      "[False False False  True  True  True  True  True  True  True]\n",
      "[ 4  5  6  7  8  9 10]\n"
     ]
    }
   ],
   "source": [
    "np_array = np.array([1, 2, 3, 4, 5, 6, 7, 8, 9, 10])\n",
    "my_mask = np_array > 3\n",
    "print(my_mask)\n",
    "print(np_array[my_mask])"
   ]
  },
  {
   "cell_type": "code",
   "execution_count": 12,
   "id": "534e4bf7",
   "metadata": {},
   "outputs": [
    {
     "name": "stdout",
     "output_type": "stream",
     "text": [
      "[1 2 3]\n",
      "[ 1  2  9 10]\n",
      "[4 5 6 7]\n"
     ]
    }
   ],
   "source": [
    "print(np_array[~(np_array > 3)]) # ~ means NOT\n",
    "print(np_array[(np_array < 3) | (np_array > 8)]) # | means OR\n",
    "print(np_array[(np_array > 3) & (np_array < 8)]) # & means AND"
   ]
  },
  {
   "cell_type": "markdown",
   "id": "1072a5eb",
   "metadata": {},
   "source": [
    "When combining masks, always use Bitwise NOT (~), Bitwise OR (|) and Bitwise AND (&). Always use brackets to separate out the conditions."
   ]
  },
  {
   "attachments": {},
   "cell_type": "markdown",
   "id": "123456",
   "metadata": {},
   "source": [
    "## 1.3 Lists & Arrays in 2D | Indexing & Slicing"
   ]
  },
  {
   "cell_type": "markdown",
   "id": "e4ca4b56",
   "metadata": {},
   "source": [
    "Another difference between lists and arrays is in the way they index and slice in higher dimensions:"
   ]
  },
  {
   "cell_type": "code",
   "execution_count": 6,
   "id": "bded9982",
   "metadata": {},
   "outputs": [
    {
     "name": "stdout",
     "output_type": "stream",
     "text": [
      "[4, 'D']\n",
      "['4' 'D']\n",
      "4\n",
      "4\n",
      "[[1, 'A'], [2, 'B'], [3, 'C']]\n",
      "[['1' 'A']\n",
      " ['2' 'B']\n",
      " ['3' 'C']]\n",
      "[1, 'A']\n",
      "['1' '2' '3']\n",
      "[4, 'D']\n",
      "['4' '5' '6']\n",
      "['1' '2' '3' '4' '5' '6' '7' '8' '9' '10']\n"
     ]
    }
   ],
   "source": [
    "py_list_2d = [[1, \"A\"], [2, \"B\"], [3, \"C\"], [4, \"D\"], [5, \"E\"], [6, \"F\"], [7, \"G\"], [8, \"H\"], [9, \"I\"], [10, \"J\"]]\n",
    "np_array_2d = np.array(py_list_2d)\n",
    "\n",
    "# The fourth element in the list/array\n",
    "print(py_list_2d[3]) \n",
    "print(np_array_2d[3])\n",
    "\n",
    "# The first element in the fourth element in the list/array\n",
    "print(py_list_2d[3][0])\n",
    "print(np_array_2d[3, 0])\n",
    "\n",
    "# The first three elements in the list/array\n",
    "print(py_list_2d[:3])\n",
    "print(np_array_2d[:3])\n",
    "\n",
    "# The first element in a list of the first three elements in the list\n",
    "print(py_list_2d[:3][0])\n",
    "\n",
    "#The first element in each element of the array consisting of the first three elements in the array\n",
    "print(np_array_2d[:3, 0])\n",
    "\n",
    "# The first element in a list of the foruth to sixth element in the list\n",
    "print(py_list_2d[3:6][0])\n",
    "\n",
    "# The first element in each element of the array consisting of the fourth to sixth element in the array\n",
    "print(np_array_2d[3:6, 0])\n",
    "\n",
    "# The first element in each element in the array\n",
    "print(np_array_2d[:, 0])"
   ]
  },
  {
   "attachments": {},
   "cell_type": "markdown",
   "id": "123456",
   "metadata": {},
   "source": [
    "## 1.4 Growing lists"
   ]
  },
  {
   "cell_type": "markdown",
   "id": "988d4e56",
   "metadata": {},
   "source": [
    "NumPy arrays are great at slicing and also for working with mathematics, but lists are easy to grow and do so very efficiently. NumPy arrays ont the other hand are not so easy to change."
   ]
  },
  {
   "cell_type": "code",
   "execution_count": 8,
   "id": "e4358d55",
   "metadata": {},
   "outputs": [
    {
     "data": {
      "text/plain": [
       "[1, 2, 1, 2, 1, 2, 1, 2, 1, 2]"
      ]
     },
     "execution_count": 8,
     "metadata": {},
     "output_type": "execute_result"
    }
   ],
   "source": [
    "x = [1, 2] * 5\n",
    "x"
   ]
  },
  {
   "cell_type": "markdown",
   "id": "93399f2e",
   "metadata": {},
   "source": [
    "There are three ways to append elements on at a time to a list: using ```+```, ```+=``` and ```.append()```."
   ]
  },
  {
   "cell_type": "code",
   "execution_count": 9,
   "id": "1bee849f",
   "metadata": {},
   "outputs": [
    {
     "data": {
      "text/plain": [
       "[1, 2, 3]"
      ]
     },
     "execution_count": 9,
     "metadata": {},
     "output_type": "execute_result"
    }
   ],
   "source": [
    "x = [1]\n",
    "x = x + [2]\n",
    "x = x + [3]\n",
    "x"
   ]
  },
  {
   "cell_type": "code",
   "execution_count": 10,
   "id": "bef23011",
   "metadata": {},
   "outputs": [
    {
     "data": {
      "text/plain": [
       "[1, 2, 3]"
      ]
     },
     "execution_count": 10,
     "metadata": {},
     "output_type": "execute_result"
    }
   ],
   "source": [
    "x = [1] \n",
    "x += [2]\n",
    "x += [3]\n",
    "x"
   ]
  },
  {
   "cell_type": "code",
   "execution_count": 11,
   "id": "74b21eee",
   "metadata": {},
   "outputs": [
    {
     "data": {
      "text/plain": [
       "[1, 2, 3]"
      ]
     },
     "execution_count": 11,
     "metadata": {},
     "output_type": "execute_result"
    }
   ],
   "source": [
    "x = [1] \n",
    "x.append(2)\n",
    "x.append(3)\n",
    "x"
   ]
  },
  {
   "cell_type": "markdown",
   "id": "0713afea",
   "metadata": {},
   "source": [
    "```.append()``` runs much faster than the rest of the options."
   ]
  },
  {
   "attachments": {},
   "cell_type": "markdown",
   "id": "123456",
   "metadata": {},
   "source": [
    "# Some loose ends"
   ]
  },
  {
   "attachments": {},
   "cell_type": "markdown",
   "id": "123456",
   "metadata": {},
   "source": [
    "## 1.5 Tuples"
   ]
  },
  {
   "cell_type": "markdown",
   "id": "be57ebe3",
   "metadata": {},
   "source": [
    "Tuples can be marked by ```()``` and they cannot be changed after they are created, hence they are immutable."
   ]
  },
  {
   "cell_type": "code",
   "execution_count": 12,
   "id": "817155d1",
   "metadata": {},
   "outputs": [
    {
     "name": "stdout",
     "output_type": "stream",
     "text": [
      "1\n"
     ]
    }
   ],
   "source": [
    "a = (1, 2, 3)\n",
    "print(a[0])"
   ]
  },
  {
   "cell_type": "markdown",
   "id": "0f7f451a",
   "metadata": {},
   "source": [
    "Data within tuples can be accessed similar to lists but they cannot be changed."
   ]
  },
  {
   "cell_type": "code",
   "execution_count": 13,
   "id": "d0dd5063",
   "metadata": {},
   "outputs": [
    {
     "ename": "TypeError",
     "evalue": "'tuple' object does not support item assignment",
     "output_type": "error",
     "traceback": [
      "\u001b[31m---------------------------------------------------------------------------\u001b[39m",
      "\u001b[31mTypeError\u001b[39m                                 Traceback (most recent call last)",
      "\u001b[36mCell\u001b[39m\u001b[36m \u001b[39m\u001b[32mIn[13]\u001b[39m\u001b[32m, line 1\u001b[39m\n\u001b[32m----> \u001b[39m\u001b[32m1\u001b[39m \u001b[43ma\u001b[49m\u001b[43m[\u001b[49m\u001b[32;43m0\u001b[39;49m\u001b[43m]\u001b[49m = -\u001b[32m1\u001b[39m\n",
      "\u001b[31mTypeError\u001b[39m: 'tuple' object does not support item assignment"
     ]
    }
   ],
   "source": [
    "a[0] = -1"
   ]
  },
  {
   "cell_type": "code",
   "execution_count": 14,
   "id": "a7938feb",
   "metadata": {},
   "outputs": [
    {
     "ename": "TypeError",
     "evalue": "'tuple' object does not support item assignment",
     "output_type": "error",
     "traceback": [
      "\u001b[31m---------------------------------------------------------------------------\u001b[39m",
      "\u001b[31mTypeError\u001b[39m                                 Traceback (most recent call last)",
      "\u001b[36mCell\u001b[39m\u001b[36m \u001b[39m\u001b[32mIn[14]\u001b[39m\u001b[32m, line 1\u001b[39m\n\u001b[32m----> \u001b[39m\u001b[32m1\u001b[39m \u001b[43ma\u001b[49m\u001b[43m[\u001b[49m\u001b[32;43m0\u001b[39;49m\u001b[43m]\u001b[49m += \u001b[32m1\u001b[39m\n",
      "\u001b[31mTypeError\u001b[39m: 'tuple' object does not support item assignment"
     ]
    }
   ],
   "source": [
    "a[0] += 1"
   ]
  },
  {
   "attachments": {},
   "cell_type": "markdown",
   "id": "123456",
   "metadata": {},
   "source": [
    "## 1.6 Be VERY careful when copying"
   ]
  },
  {
   "cell_type": "markdown",
   "id": "29ae5ea9",
   "metadata": {},
   "source": [
    "When making copies of lists and arrays, be sure to use ```.copy()``` in order to not affect the original list too."
   ]
  },
  {
   "cell_type": "code",
   "execution_count": 18,
   "id": "7957258b",
   "metadata": {},
   "outputs": [
    {
     "name": "stdout",
     "output_type": "stream",
     "text": [
      "x = [1, 2, 3, 4], y = [1, 2, 3, 4], and z = [1, 2, 3, 4]\n"
     ]
    }
   ],
   "source": [
    "x = [1, 2, 3]\n",
    "y = x\n",
    "z = x\n",
    "z += [4]\n",
    "print(f\"{x = }, {y = }, and {z = }\")"
   ]
  },
  {
   "cell_type": "code",
   "execution_count": 17,
   "id": "36e07c8d",
   "metadata": {},
   "outputs": [
    {
     "name": "stdout",
     "output_type": "stream",
     "text": [
      "x = [1, 2, 3], y = [1, 2, 3], and z = [1, 2, 3, 4]\n"
     ]
    }
   ],
   "source": [
    "x = [1, 2, 3]\n",
    "y = x.copy()\n",
    "z = x.copy()\n",
    "z += [4]\n",
    "print(f\"{x = }, {y = }, and {z = }\")\n"
   ]
  },
  {
   "attachments": {},
   "cell_type": "markdown",
   "id": "123456",
   "metadata": {},
   "source": [
    "## Footnotes"
   ]
  }
 ],
 "metadata": {
  "kernelspec": {
   "display_name": "base",
   "language": "python",
   "name": "python3"
  },
  "language_info": {
   "codemirror_mode": {
    "name": "ipython",
    "version": 3
   },
   "file_extension": ".py",
   "mimetype": "text/x-python",
   "name": "python",
   "nbconvert_exporter": "python",
   "pygments_lexer": "ipython3",
   "version": "3.13.5"
  },
  "toc": {
   "base_numbering": 1,
   "nav_menu": {},
   "number_sections": true,
   "sideBar": true,
   "skip_h1_title": false,
   "title_cell": "Table of Contents",
   "title_sidebar": "Contents",
   "toc_cell": false,
   "toc_position": {},
   "toc_section_display": true,
   "toc_window_display": false
  }
 },
 "nbformat": 4,
 "nbformat_minor": 5
}
