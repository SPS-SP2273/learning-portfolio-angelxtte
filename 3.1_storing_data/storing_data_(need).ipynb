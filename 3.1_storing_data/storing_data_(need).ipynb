{
 "cells": [
  {
   "attachments": {},
   "cell_type": "markdown",
   "id": "123456",
   "metadata": {},
   "source": [
    "<div style=\"text-align:left;font-size:2em\"><span style=\"font-weight:bolder;font-size:1.25em\">SP2273 | Learning Portfolio</span><br><br><span style=\"font-weight:bold;color:darkred\">Storing Data (Need)</span></div>"
   ]
  },
  {
   "cell_type": "code",
   "execution_count": 3,
   "id": "384de19a",
   "metadata": {},
   "outputs": [],
   "source": [
    "import numpy as np"
   ]
  },
  {
   "attachments": {},
   "cell_type": "markdown",
   "id": "123456",
   "metadata": {},
   "source": [
    "# What to expect in this chapter"
   ]
  },
  {
   "cell_type": "markdown",
   "id": "92ebaef2",
   "metadata": {},
   "source": [
    "There are a non-comprehensive list of ways to store and manipulate data:\n",
    "1. Lists\n",
    "2. Numpy arrays\n",
    "3. Dictionaries\n",
    "4. Tuples\n",
    "5. Dataframes\n",
    "6. Classes"
   ]
  },
  {
   "attachments": {},
   "cell_type": "markdown",
   "id": "123456",
   "metadata": {},
   "source": [
    "# 1 Lists, Arrays & Dictionaries"
   ]
  },
  {
   "cell_type": "markdown",
   "id": "25728069",
   "metadata": {},
   "source": [
    "## 1.1 Let’s compare"
   ]
  },
  {
   "cell_type": "markdown",
   "id": "7110c02c",
   "metadata": {},
   "source": [
    "**Python Lists**"
   ]
  },
  {
   "cell_type": "code",
   "execution_count": 2,
   "id": "da532f5e",
   "metadata": {},
   "outputs": [
    {
     "name": "stdout",
     "output_type": "stream",
     "text": [
      "['Black Widow', 'Iron Man', 'Doctor Strange']\n",
      "['Natasha Romanoff', 'Tony Stark', 'Stephen Strange']\n"
     ]
    }
   ],
   "source": [
    "py_super_names = [\"Black Widow\", \"Iron Man\", \"Doctor Strange\"]\n",
    "py_real_names = [\"Natasha Romanoff\", \"Tony Stark\", \"Stephen Strange\"]\n",
    "print(py_super_names)\n",
    "print(py_real_names)"
   ]
  },
  {
   "cell_type": "markdown",
   "id": "d3ce9ad8",
   "metadata": {},
   "source": [
    "**Numpy Arrays**"
   ]
  },
  {
   "cell_type": "code",
   "execution_count": 3,
   "id": "2804f461",
   "metadata": {},
   "outputs": [
    {
     "name": "stdout",
     "output_type": "stream",
     "text": [
      "['Black Widow' 'Iron Man' 'Doctor Strange']\n",
      "['Natasha Romanoff' 'Tony Stark' 'Stephen Strange']\n"
     ]
    }
   ],
   "source": [
    "np_super_names = np.array([\"Black Widow\", \"Iron Man\", \"Doctor Strange\"])\n",
    "np_real_names = np.array([\"Natasha Romanoff\", \"Tony Stark\", \"Stephen Strange\"])\n",
    "print(np_super_names)\n",
    "print(np_real_names)"
   ]
  },
  {
   "cell_type": "markdown",
   "id": "79af5945",
   "metadata": {},
   "source": [
    "**Dictionary**"
   ]
  },
  {
   "cell_type": "code",
   "execution_count": 9,
   "id": "d732bea8",
   "metadata": {},
   "outputs": [
    {
     "name": "stdout",
     "output_type": "stream",
     "text": [
      "Black Widow\n"
     ]
    }
   ],
   "source": [
    "superhero_info = {\"Natasha Romanoff\": \"Black Widow\", \"Tony Stark\": \"Iron Man\", \"Stephen Strange\": \"Doctor Strange\"}\n",
    "print(superhero_info[\"Natasha Romanoff\"])"
   ]
  },
  {
   "cell_type": "markdown",
   "id": "f6ca593c",
   "metadata": {},
   "source": [
    "Things to take note:\n",
    "- Dictionaries use a key and an associated value that is separated by ```:```.\n",
    "- Dictionaries can hold both the real and superhero names in one structure, but two lists or arrays are needed for the same data.\n",
    "- In this case, the order of the lists and arrays matter."
   ]
  },
  {
   "attachments": {},
   "cell_type": "markdown",
   "id": "123456",
   "metadata": {},
   "source": [
    "## 1.2 Accessing data from a list (or array)"
   ]
  },
  {
   "cell_type": "markdown",
   "id": "62d650b4",
   "metadata": {},
   "source": [
    "For data in a list or array, the index corresponding to the data's position starts from 0."
   ]
  },
  {
   "cell_type": "code",
   "execution_count": 14,
   "id": "9351c500",
   "metadata": {},
   "outputs": [
    {
     "name": "stdout",
     "output_type": "stream",
     "text": [
      "Natasha Romanoff\n",
      "Black Widow\n",
      "Doctor Strange\n",
      "Doctor Strange\n"
     ]
    }
   ],
   "source": [
    "py_super_names = [\"Black Widow\", \"Iron Man\", \"Doctor Strange\"]\n",
    "py_real_names = [\"Natasha Romanoff\", \"Tony Stark\", \"Stephen Strange\"]\n",
    "print(py_real_names[0])\n",
    "print(py_super_names[0])\n",
    "print(py_super_names[2]) # Forward indexing\n",
    "print(py_super_names[-1]) # Reverse indexing"
   ]
  },
  {
   "attachments": {},
   "cell_type": "markdown",
   "id": "123456",
   "metadata": {},
   "source": [
    "## 1.3 Accessing data from a dictionary"
   ]
  },
  {
   "cell_type": "markdown",
   "id": "496aadd4",
   "metadata": {},
   "source": [
    "Values in dictionaries can be accessed by using their keys:"
   ]
  },
  {
   "cell_type": "code",
   "execution_count": 15,
   "id": "600be419",
   "metadata": {},
   "outputs": [
    {
     "name": "stdout",
     "output_type": "stream",
     "text": [
      "Black Widow\n"
     ]
    }
   ],
   "source": [
    "superhero_info = {\"Natasha Romanoff\": \"Black Widow\", \"Tony Stark\": \"Iron Man\", \"Stephen Strange\": \"Doctor Strange\"}\n",
    "print(superhero_info[\"Natasha Romanoff\"])"
   ]
  },
  {
   "cell_type": "code",
   "execution_count": 26,
   "id": "01e51008",
   "metadata": {},
   "outputs": [
    {
     "name": "stdout",
     "output_type": "stream",
     "text": [
      "dict_keys(['Natasha Romanoff', 'Tony Stark', 'Stephen Strange'])\n",
      "dict_values(['Black Widow', 'Iron Man', 'Doctor Strange'])\n",
      "['Natasha Romanoff', 'Tony Stark', 'Stephen Strange']\n"
     ]
    }
   ],
   "source": [
    "print(superhero_info.keys()) # This is not returned as a list or dictionary\n",
    "print(superhero_info.values())\n",
    "superhero_names = list(superhero_info.keys())\n",
    "print(superhero_names)\n"
   ]
  },
  {
   "attachments": {},
   "cell_type": "markdown",
   "id": "123456",
   "metadata": {},
   "source": [
    "## 1.4 Higher dimensional lists"
   ]
  },
  {
   "cell_type": "markdown",
   "id": "67b13a7b",
   "metadata": {},
   "source": [
    "2D lists or arrays can be used instead of two separate lists to store the corresponding real and superhero names."
   ]
  },
  {
   "cell_type": "code",
   "execution_count": 1,
   "id": "5b860c16",
   "metadata": {},
   "outputs": [],
   "source": [
    "py_superhero_info = [['Natasha Romanoff', 'Black Widow'], ['Tony Stark', 'Iron Man'], ['Stephen Strange', 'Doctor Strange']]"
   ]
  },
  {
   "attachments": {},
   "cell_type": "markdown",
   "id": "123456",
   "metadata": {},
   "source": [
    "# 2 Lists vs. Arrays"
   ]
  },
  {
   "attachments": {},
   "cell_type": "markdown",
   "id": "123456",
   "metadata": {},
   "source": [
    "## 2.1 Size"
   ]
  },
  {
   "cell_type": "code",
   "execution_count": 4,
   "id": "cd1d609d",
   "metadata": {},
   "outputs": [],
   "source": [
    "py_list_2d = [[1, \"A\"], [2, \"B\"], [3, \"C\"], [4, \"D\"], [5, \"E\"], [6, \"F\"], [7, \"G\"], [8, \"H\"], [9, \"I\"], [10, \"J\"]]\n",
    "np_array_2d = np.array(py_list_2d) # Uses the py_list_2d list to create a new NumPy Array"
   ]
  },
  {
   "cell_type": "code",
   "execution_count": 8,
   "id": "602fb48a",
   "metadata": {},
   "outputs": [
    {
     "name": "stdout",
     "output_type": "stream",
     "text": [
      "10\n",
      "10\n"
     ]
    },
    {
     "data": {
      "text/plain": [
       "(10, 2)"
      ]
     },
     "execution_count": 8,
     "metadata": {},
     "output_type": "execute_result"
    }
   ],
   "source": [
    "print(len(py_list_2d))\n",
    "print(len(np_array_2d))\n",
    "np_array_2d.shape # Attribute of a NumPy Array"
   ]
  },
  {
   "cell_type": "markdown",
   "id": "a19edbf7",
   "metadata": {},
   "source": [
    "NumPy arrays are specific in the sense that they require the array to have a consistent shape. So a list like ```[[1, 2], [1]]``` is okay but an array like ```array([[1, 2], [1]]``` is not allowed. The dimensions of the elements must be the same."
   ]
  },
  {
   "attachments": {},
   "cell_type": "markdown",
   "id": "123456",
   "metadata": {},
   "source": [
    "## 2.2 Arrays are fussy about type"
   ]
  },
  {
   "cell_type": "markdown",
   "id": "dbb855db",
   "metadata": {},
   "source": [
    "One key difference between lists and arrays is that arrays insist on having only a single data type while lists are more accomodating."
   ]
  },
  {
   "cell_type": "code",
   "execution_count": 9,
   "id": "12975e9a",
   "metadata": {},
   "outputs": [
    {
     "name": "stdout",
     "output_type": "stream",
     "text": [
      "[1, 1.5, 'A']\n",
      "['1' '1.5' 'A']\n"
     ]
    }
   ],
   "source": [
    "py_list = [1, 1.5, \"A\"]\n",
    "np_array = np.array(py_list)\n",
    "print(py_list)\n",
    "print(np_array)"
   ]
  },
  {
   "cell_type": "markdown",
   "id": "5b7747fc",
   "metadata": {},
   "source": [
    "When dealing with datasets that contain both numbers and text, be aware of this restriction."
   ]
  },
  {
   "attachments": {},
   "cell_type": "markdown",
   "id": "123456",
   "metadata": {},
   "source": [
    "## 2.3 Adding a number"
   ]
  },
  {
   "cell_type": "code",
   "execution_count": 10,
   "id": "b7a436b2",
   "metadata": {},
   "outputs": [
    {
     "name": "stdout",
     "output_type": "stream",
     "text": [
      "[11 12 13 14 15]\n"
     ]
    }
   ],
   "source": [
    "py_list = [1, 2, 3, 4, 5]\n",
    "np_array = np.array(py_list)\n",
    "print(np_array + 10) # py_list + 10 does not work"
   ]
  },
  {
   "attachments": {},
   "cell_type": "markdown",
   "id": "123456",
   "metadata": {},
   "source": [
    "## 2.4 Adding another list"
   ]
  },
  {
   "cell_type": "markdown",
   "id": "282021b6",
   "metadata": {},
   "source": [
    "Adding lists to each other causes the elements of one list to be added to the other, while adding arrays causes elements to change."
   ]
  },
  {
   "cell_type": "code",
   "execution_count": 11,
   "id": "21361528",
   "metadata": {},
   "outputs": [
    {
     "name": "stdout",
     "output_type": "stream",
     "text": [
      "[1, 2, 3, 4, 5, 10, 20, 30, 40, 50]\n",
      "[11 22 33 44 55]\n"
     ]
    }
   ],
   "source": [
    "py_list_1 = [1, 2, 3, 4, 5]\n",
    "py_list_2 = [10, 20, 30, 40, 50]\n",
    "np_array_1 = np.array(py_list_1)\n",
    "np_array_2 = np.array(py_list_2)\n",
    "\n",
    "print(py_list_1 + py_list_2)\n",
    "print(np_array_1 + np_array_2)"
   ]
  },
  {
   "attachments": {},
   "cell_type": "markdown",
   "id": "123456",
   "metadata": {},
   "source": [
    "## 2.5 Multiplying by a Number"
   ]
  },
  {
   "cell_type": "markdown",
   "id": "ec0f79a5",
   "metadata": {},
   "source": [
    "Multiplying a list by a number causes the list to grow, whereas multiplying arrays by a number causes elements to be multiplied by the number itself."
   ]
  },
  {
   "cell_type": "code",
   "execution_count": 12,
   "id": "64e6cda7",
   "metadata": {},
   "outputs": [
    {
     "name": "stdout",
     "output_type": "stream",
     "text": [
      "[1, 2, 3, 4, 5, 1, 2, 3, 4, 5]\n",
      "[ 2  4  6  8 10]\n"
     ]
    }
   ],
   "source": [
    "py_list = [1, 2, 3, 4, 5]\n",
    "np_array = np.array(py_list)\n",
    "print(py_list*2)\n",
    "print(np_array*2)"
   ]
  },
  {
   "attachments": {},
   "cell_type": "markdown",
   "id": "123456",
   "metadata": {},
   "source": [
    "## 2.6 Squaring"
   ]
  },
  {
   "cell_type": "markdown",
   "id": "f8f32ed8",
   "metadata": {},
   "source": [
    "Squaring an array causes elements to be squared, whereas this doesn't work with lists."
   ]
  },
  {
   "cell_type": "code",
   "execution_count": 13,
   "id": "8010bd92",
   "metadata": {},
   "outputs": [
    {
     "data": {
      "text/plain": [
       "array([ 1,  4,  9, 16, 25])"
      ]
     },
     "execution_count": 13,
     "metadata": {},
     "output_type": "execute_result"
    }
   ],
   "source": [
    "py_list = [1, 2, 3, 4, 5]\n",
    "np_array = np.array(py_list)\n",
    "np_array**2"
   ]
  },
  {
   "attachments": {},
   "cell_type": "markdown",
   "id": "123456",
   "metadata": {},
   "source": [
    "## 2.7 Asking questions"
   ]
  },
  {
   "cell_type": "code",
   "execution_count": 15,
   "id": "16482c93",
   "metadata": {},
   "outputs": [],
   "source": [
    "py_list = [1, 2, 3, 4, 5]\n",
    "np_array = np.array(py_list)"
   ]
  },
  {
   "cell_type": "code",
   "execution_count": 23,
   "id": "b8c4bdbb",
   "metadata": {},
   "outputs": [
    {
     "name": "stdout",
     "output_type": "stream",
     "text": [
      "False\n",
      "[False False  True False False]\n",
      "[False False False  True  True]\n"
     ]
    },
    {
     "data": {
      "text/plain": [
       "False"
      ]
     },
     "execution_count": 23,
     "metadata": {},
     "output_type": "execute_result"
    }
   ],
   "source": [
    "print(py_list == 3)\n",
    "# print(py_list > 3) doesn't work\n",
    "print(np_array == 3)\n",
    "print(np_array > 3)"
   ]
  },
  {
   "cell_type": "code",
   "execution_count": 27,
   "id": "4596e6df",
   "metadata": {},
   "outputs": [
    {
     "name": "stdout",
     "output_type": "stream",
     "text": [
      "2\n"
     ]
    }
   ],
   "source": [
    "print(sum(np_array >3))\n",
    "# takes a sum of the bottom list, where False is treated as 0 and True is treated as 1"
   ]
  },
  {
   "cell_type": "markdown",
   "id": "5c0d6df1",
   "metadata": {},
   "source": [
    "For lists, it is possible to check for equality between the list and, say, an integer like 3, which will always return False as they are different object types.\n",
    "\n",
    " But it isn't possible to check if it is greater than or less than an interger since it is not an int and they are not the same object type. It can only be compared with another list.\n",
    "\n",
    "For arrays, the individual elements are either checked for equality or checked if they are larger than the int in the condition."
   ]
  },
  {
   "cell_type": "code",
   "execution_count": 36,
   "id": "dfe3c9be",
   "metadata": {},
   "outputs": [
    {
     "name": "stdout",
     "output_type": "stream",
     "text": [
      "[4 5 4 5 4 5 4 5 4 5]\n"
     ]
    }
   ],
   "source": [
    "py_list = [1, 2, 3, 4, 5]\n",
    "np_array = np.array(py_list * 5)\n",
    "mask = np_array > 3 # The mask only consists of True and Falses\n",
    "print(np_array[mask]) # Doing this returns an array with the elements that correspond to True values in the \"mask\""
   ]
  },
  {
   "attachments": {},
   "cell_type": "markdown",
   "id": "123456",
   "metadata": {},
   "source": [
    "## 2.8 Mathematics"
   ]
  },
  {
   "cell_type": "code",
   "execution_count": 25,
   "id": "9e889706",
   "metadata": {},
   "outputs": [
    {
     "name": "stdout",
     "output_type": "stream",
     "text": [
      "15\n",
      "5\n",
      "1\n",
      "15\n",
      "5\n",
      "1\n",
      "3.0\n",
      "1.4142135623730951\n"
     ]
    }
   ],
   "source": [
    "py_list = [1, 2, 3, 4, 5]\n",
    "np_array = np.array(py_list)\n",
    "\n",
    "# sum(), max() and min() are base Python functions\n",
    "print(sum(py_list))\n",
    "print(max(py_list))\n",
    "print(min(py_list))\n",
    "\n",
    "print(np_array.sum())\n",
    "print(np_array.max())\n",
    "print(np_array.min())\n",
    "print(np_array.mean()) # returned as float\n",
    "print(np_array.std()) # returned as float"
   ]
  },
  {
   "cell_type": "markdown",
   "id": "220d6fad",
   "metadata": {},
   "source": [
    "In a generalised statement, operations on a list tend to work on the whole list, while operations on an array tend to work on individual elements within the array."
   ]
  },
  {
   "attachments": {},
   "cell_type": "markdown",
   "id": "123456",
   "metadata": {},
   "source": [
    "## Footnotes"
   ]
  }
 ],
 "metadata": {
  "kernelspec": {
   "display_name": "base",
   "language": "python",
   "name": "python3"
  },
  "language_info": {
   "codemirror_mode": {
    "name": "ipython",
    "version": 3
   },
   "file_extension": ".py",
   "mimetype": "text/x-python",
   "name": "python",
   "nbconvert_exporter": "python",
   "pygments_lexer": "ipython3",
   "version": "3.13.5"
  },
  "toc": {
   "base_numbering": 1,
   "nav_menu": {},
   "number_sections": true,
   "sideBar": true,
   "skip_h1_title": false,
   "title_cell": "Table of Contents",
   "title_sidebar": "Contents",
   "toc_cell": false,
   "toc_position": {},
   "toc_section_display": true,
   "toc_window_display": false
  }
 },
 "nbformat": 4,
 "nbformat_minor": 5
}
