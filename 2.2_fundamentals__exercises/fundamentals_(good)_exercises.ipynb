{
 "cells": [
  {
   "attachments": {},
   "cell_type": "markdown",
   "id": "123456",
   "metadata": {},
   "source": [
    "<div style=\"text-align:left;font-size:2em\"><span style=\"font-weight:bolder;font-size:1.25em\">SP2273 | Learning Portfolio</span><br><br><span style=\"font-weight:bold;color:darkred\">Fundamentals (Good) Exercises</span></div>"
   ]
  },
  {
   "cell_type": "markdown",
   "id": "c3d54034",
   "metadata": {},
   "source": [
    "# Exercise 1"
   ]
  },
  {
   "cell_type": "code",
   "execution_count": 1,
   "id": "bdd25050",
   "metadata": {},
   "outputs": [
    {
     "name": "stdout",
     "output_type": "stream",
     "text": [
      "You entered 5\n"
     ]
    }
   ],
   "source": [
    "user_input = input('Please provide me with a number?')\n",
    "print('You entered', user_input)"
   ]
  },
  {
   "cell_type": "markdown",
   "id": "59fabc00",
   "metadata": {},
   "source": [
    "## Task 1"
   ]
  },
  {
   "cell_type": "code",
   "execution_count": 5,
   "id": "577a0dde",
   "metadata": {},
   "outputs": [
    {
     "name": "stdout",
     "output_type": "stream",
     "text": [
      "How you doin Zhehong!\n"
     ]
    }
   ],
   "source": [
    "user_input_1 = input(\"What is your name?\")\n",
    "print(f\"How you doin {user_input_1}!\")"
   ]
  },
  {
   "cell_type": "markdown",
   "id": "50aae5e8",
   "metadata": {},
   "source": [
    "## Task 2"
   ]
  },
  {
   "cell_type": "code",
   "execution_count": 6,
   "id": "7b99ae1d",
   "metadata": {},
   "outputs": [
    {
     "name": "stdout",
     "output_type": "stream",
     "text": [
      "My name is Zhehong and I am 21 years old.\n"
     ]
    }
   ],
   "source": [
    "user_input_2 = input(\"What is your name?\")\n",
    "user_input_3 = input(\"How many years old are you?\")\n",
    "print(f\"My name is {user_input_2} and I am {user_input_3} years old.\")"
   ]
  },
  {
   "cell_type": "markdown",
   "id": "a0530cce",
   "metadata": {},
   "source": [
    "## Task 3"
   ]
  },
  {
   "cell_type": "code",
   "execution_count": 10,
   "id": "775c91ee",
   "metadata": {},
   "outputs": [
    {
     "name": "stdout",
     "output_type": "stream",
     "text": [
      "The value of pi to 2 decimal places is 3.14\n",
      "The value of pi to 3 decimal places is 3.142\n",
      "The value of pi to 4 decimal places is 3.1416\n"
     ]
    }
   ],
   "source": [
    "pi = 3.141592653589793\n",
    "print(f\"The value of pi to 2 decimal places is {pi:.2f}\")\n",
    "print(f\"The value of pi to 3 decimal places is {pi:.3f}\")\n",
    "print(f\"The value of pi to 4 decimal places is {pi:.4f}\")"
   ]
  },
  {
   "cell_type": "markdown",
   "id": "aede9630",
   "metadata": {},
   "source": [
    "## Task 4"
   ]
  },
  {
   "cell_type": "code",
   "execution_count": 15,
   "id": "2f26f22b",
   "metadata": {},
   "outputs": [
    {
     "name": "stdout",
     "output_type": "stream",
     "text": [
      "Apple     $ 0.99\n",
      "Banana    $ 0.59\n",
      "Orange    $ 1.29\n"
     ]
    }
   ],
   "source": [
    "print(f\"{\"Apple\":<10}${\"0.99\":>5}\\n{\"Banana\":<10}${\"0.59\":>5}\\n{\"Orange\":<10}${\"1.29\":>5}\")"
   ]
  },
  {
   "cell_type": "markdown",
   "id": "4fbf62da",
   "metadata": {},
   "source": [
    "# Exercise 2"
   ]
  },
  {
   "cell_type": "code",
   "execution_count": 3,
   "id": "8510b1ba",
   "metadata": {},
   "outputs": [
    {
     "name": "stdout",
     "output_type": "stream",
     "text": [
      "Please enter an a numerical in the range of 0 to 100!\n"
     ]
    }
   ],
   "source": [
    "def grade():\n",
    "    try:\n",
    "        score = float(input(\"Enter the student's score: \"))\n",
    "        if 70 <= score <= 100:\n",
    "            print(\"The student's letter grade is: A\")\n",
    "        elif 50 <= score <= 69:\n",
    "            print(\"The student's letter grade is: B\")\n",
    "        elif 35 <= score <= 49:\n",
    "            print(\"The student's letter grade is: C\")\n",
    "        elif 0 <= score <= 34:\n",
    "            print(\"The student's letter grade is: Fail\")\n",
    "        else: \n",
    "            print(\"Please enter an a numerical in the range of 0 to 100!\")\n",
    "    except:\n",
    "        print(\"Please enter an the numerical grade as a whole number (0-100) as an input and not anything else!\")\n",
    "\n",
    "grade()"
   ]
  },
  {
   "cell_type": "markdown",
   "id": "aaf4172e",
   "metadata": {},
   "source": [
    "# Exercise 3"
   ]
  },
  {
   "cell_type": "markdown",
   "id": "198f4046",
   "metadata": {},
   "source": [
    "Errornous Code:"
   ]
  },
  {
   "cell_type": "code",
   "execution_count": 38,
   "id": "490ba179",
   "metadata": {},
   "outputs": [
    {
     "name": "stdout",
     "output_type": "stream",
     "text": [
      "Invalid input\n",
      "1\n"
     ]
    }
   ],
   "source": [
    "def factorial(n):\n",
    "    if n > 0:\n",
    "        return \"Invalid input\"\n",
    "    elif n != 0:\n",
    "        return 1\n",
    "    else:\n",
    "        result = 1\n",
    "        for number in range(1, n+1):\n",
    "            result += number\n",
    "        return result\n",
    "\n",
    "\n",
    "print(factorial(5))   # Testing, expected output: 120\n",
    "print(factorial(-1))  # Testing, expected output: Invalid input"
   ]
  },
  {
   "cell_type": "markdown",
   "id": "bccf1cdb",
   "metadata": {},
   "source": [
    "Debugged Code:"
   ]
  },
  {
   "cell_type": "code",
   "execution_count": 42,
   "id": "2cdc12f4",
   "metadata": {},
   "outputs": [
    {
     "name": "stdout",
     "output_type": "stream",
     "text": [
      "120\n",
      "Invalid input\n"
     ]
    }
   ],
   "source": [
    "def factorial(n):\n",
    "    if n < 0: # Error 1: Should be \"n < 0\" instead of \"n > 0\"\n",
    "        return \"Invalid input\"\n",
    "    elif n == 0: # Error 2: Should be \"n == 0\" instead of \"n != 0\"\n",
    "        return 1\n",
    "    else:\n",
    "        result = 1\n",
    "        for number in range(1, n+1):\n",
    "            result *= number # Error 3: Should be \"result *= number\" instead of \"result += number\"\n",
    "        return result\n",
    "\n",
    "\n",
    "print(factorial(5))   # Testing, expected output: 120\n",
    "print(factorial(-1))  # Testing, expected output: Invalid input"
   ]
  }
 ],
 "metadata": {
  "kernelspec": {
   "display_name": "base",
   "language": "python",
   "name": "python3"
  },
  "language_info": {
   "codemirror_mode": {
    "name": "ipython",
    "version": 3
   },
   "file_extension": ".py",
   "mimetype": "text/x-python",
   "name": "python",
   "nbconvert_exporter": "python",
   "pygments_lexer": "ipython3",
   "version": "3.13.5"
  },
  "toc": {
   "base_numbering": 1,
   "nav_menu": {},
   "number_sections": true,
   "sideBar": true,
   "skip_h1_title": false,
   "title_cell": "Table of Contents",
   "title_sidebar": "Contents",
   "toc_cell": false,
   "toc_position": {},
   "toc_section_display": true,
   "toc_window_display": false
  }
 },
 "nbformat": 4,
 "nbformat_minor": 5
}
