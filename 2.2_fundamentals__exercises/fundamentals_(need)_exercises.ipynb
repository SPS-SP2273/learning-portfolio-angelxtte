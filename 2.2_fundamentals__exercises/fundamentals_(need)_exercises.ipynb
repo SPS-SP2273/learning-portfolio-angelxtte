{
 "cells": [
  {
   "attachments": {},
   "cell_type": "markdown",
   "id": "123456",
   "metadata": {},
   "source": [
    "<div style=\"text-align:left;font-size:2em\"><span style=\"font-weight:bolder;font-size:1.25em\">SP2273 | Learning Portfolio</span><br><br><span style=\"font-weight:bold;color:darkred\">Fundamentals (Need) Exercises</span></div>"
   ]
  },
  {
   "cell_type": "markdown",
   "id": "3bfb69c3",
   "metadata": {},
   "source": [
    "# Exercise 1"
   ]
  },
  {
   "cell_type": "markdown",
   "id": "9c4f73bc",
   "metadata": {},
   "source": [
    "1. List as many of the basic Python features mentioned in the notes:\n",
    "\n",
    "Variables, functions (like ```print()``` and ```sqrt()```), packages like Numpy and math, ```if```, ```else```, ```elif```, conditions (like ```in```, ```and```, ```or``` and ```<```), object types (like ```str```, ```float``` and ```int```), f-strings and match-cases. \n",
    "\n",
    "2. Complete the list with the ones you missed:\n",
    "\n",
    "Variables, functions (like ```print()``` and ```sqrt()```), packages like Numpy and math, ```if```, ```else```, ```elif```, conditions (like ```in```, ```and```, ```or``` and ```<```), object types (like ```str```, ```float``` and ```int```), f-strings and match-cases. *Commenting using ```#```, difference between ```=``` and ```==```, lists, tuples and and dictionaries, escape sequences (like ```\\n``` and ```\\t```), ternary operators, operator precedence, .copy() and object ID*\n"
   ]
  },
  {
   "cell_type": "markdown",
   "id": "12f4cd0e",
   "metadata": {},
   "source": [
    "# Exercise 2"
   ]
  },
  {
   "cell_type": "markdown",
   "id": "8830a07d",
   "metadata": {},
   "source": [
    "Debug the following code:"
   ]
  },
  {
   "cell_type": "code",
   "execution_count": 2,
   "id": "9d4885a6",
   "metadata": {},
   "outputs": [
    {
     "ename": "IndentationError",
     "evalue": "unindent does not match any outer indentation level (<string>, line 3)",
     "output_type": "error",
     "traceback": [
      "  \u001b[36mFile \u001b[39m\u001b[32m<string>:3\u001b[39m\n\u001b[31m    \u001b[39m\u001b[31mPrint(x, y, z)\u001b[39m\n                  ^\n\u001b[31mIndentationError\u001b[39m\u001b[31m:\u001b[39m unindent does not match any outer indentation level\n"
     ]
    }
   ],
   "source": [
    "x, y = 3, 4\n",
    "        z = sqrt(x*2 + y**2)\n",
    "    Print(x, y, z)"
   ]
  },
  {
   "cell_type": "markdown",
   "id": "7d8debe6",
   "metadata": {},
   "source": [
    "Debugged code:"
   ]
  },
  {
   "cell_type": "code",
   "execution_count": 6,
   "id": "37cfb430",
   "metadata": {},
   "outputs": [
    {
     "name": "stdout",
     "output_type": "stream",
     "text": [
      "3 4 4.69041575982343\n"
     ]
    }
   ],
   "source": [
    "import numpy as np\n",
    "x, y = 3, 4\n",
    "z = np.sqrt(x*2 + y**2)\n",
    "print(x, y, z)"
   ]
  },
  {
   "cell_type": "markdown",
   "id": "f99c7735",
   "metadata": {},
   "source": [
    "# Exercise 3"
   ]
  },
  {
   "cell_type": "markdown",
   "id": "2ef10610",
   "metadata": {},
   "source": [
    "|#|Term|Description|\n",
    "|:----:|:-----|:----:|\n",
    "|1|Function|A block of code that can be re-used to acheive a specific purpose|\n",
    "|2|Arguments|Objects that are taken as inputs to be passed into the function|\n",
    "|3|Comments|Specific lines of text within code that are ignored when the code is executed, and act as forms of annotation or additional information|\n",
    "|4|Indentations|Space at the start of a line of code that helps to indicate the structure within the code|\n",
    "|5|Packages|An organised set of already written modules and functions|\n",
    "|6|.|A way of indicating ownership of a particular function|\n",
    "|7|:|Used to designate a block a code|\n",
    "|8|[]|Used for lists of data or to be used as index brackets for mutable objects|\n",
    "|9|[[],[]]|Used for nested lists (lists inside a list)|\n",
    "|10|{}|Used for dictionaries (with keys and values)|"
   ]
  },
  {
   "cell_type": "markdown",
   "id": "5177f350",
   "metadata": {},
   "source": [
    "# Exercise 4"
   ]
  },
  {
   "cell_type": "code",
   "execution_count": 1,
   "id": "db8cbb9a",
   "metadata": {},
   "outputs": [
    {
     "name": "stdout",
     "output_type": "stream",
     "text": [
      "2.5\n"
     ]
    }
   ],
   "source": [
    "5/2 # Divides one number (either int or float) by another number and returns the quotient as a float.\n",
    "print(5/2)"
   ]
  },
  {
   "cell_type": "code",
   "execution_count": null,
   "id": "732bf8e4",
   "metadata": {},
   "outputs": [
    {
     "name": "stdout",
     "output_type": "stream",
     "text": [
      "2\n",
      "2.0\n"
     ]
    }
   ],
   "source": [
    "5//2 # Divides one number (either int or float) by another number and returns the quotient as an int if both numbers are int, or as a float if at least one of the numbers is a float.\n",
    "print(5//2)\n",
    "print(5.0//2)"
   ]
  },
  {
   "cell_type": "code",
   "execution_count": 3,
   "id": "cd44f1cc",
   "metadata": {},
   "outputs": [
    {
     "name": "stdout",
     "output_type": "stream",
     "text": [
      "1\n",
      "1.0\n"
     ]
    }
   ],
   "source": [
    "5%2 # Divides one number (either int or float) by another number and returns the remainder as an int if both numbers are int, or as a float if at least one of the numbers is a float.\n",
    "print(5%2)\n",
    "print(5.0%2)"
   ]
  }
 ],
 "metadata": {
  "kernelspec": {
   "display_name": "base",
   "language": "python",
   "name": "python3"
  },
  "language_info": {
   "codemirror_mode": {
    "name": "ipython",
    "version": 3
   },
   "file_extension": ".py",
   "mimetype": "text/x-python",
   "name": "python",
   "nbconvert_exporter": "python",
   "pygments_lexer": "ipython3",
   "version": "3.13.5"
  },
  "toc": {
   "base_numbering": 1,
   "nav_menu": {},
   "number_sections": true,
   "sideBar": true,
   "skip_h1_title": false,
   "title_cell": "Table of Contents",
   "title_sidebar": "Contents",
   "toc_cell": false,
   "toc_position": {},
   "toc_section_display": true,
   "toc_window_display": false
  }
 },
 "nbformat": 4,
 "nbformat_minor": 5
}
