{
 "cells": [
  {
   "attachments": {},
   "cell_type": "markdown",
   "id": "123456",
   "metadata": {},
   "source": [
    "<div style=\"text-align:left;font-size:2em\"><span style=\"font-weight:bolder;font-size:1.25em\">SP2273 | Learning Portfolio</span><br><br><span style=\"font-weight:bold;color:darkred\">Functions (Need) Exercises</span></div>"
   ]
  },
  {
   "cell_type": "markdown",
   "id": "424d693a",
   "metadata": {},
   "source": [
    "# Exercise 1"
   ]
  },
  {
   "cell_type": "code",
   "execution_count": 6,
   "id": "d5cd2cb9",
   "metadata": {},
   "outputs": [
    {
     "data": {
      "text/plain": [
       "'Hello Zhehong!'"
      ]
     },
     "execution_count": 6,
     "metadata": {},
     "output_type": "execute_result"
    }
   ],
   "source": [
    "def greeting(name):\n",
    "    if name == 'Batman':\n",
    "        return 'Hello Batman! So, nice to meet you!'\n",
    "    return f'Hello {name}!'\n",
    "greeting(name = \"Zhehong\")"
   ]
  },
  {
   "cell_type": "markdown",
   "id": "001e61a3",
   "metadata": {},
   "source": [
    "The above code works despite not having an ```else``` statement because when the condition of ```name == \"Batman\"``` is ```True```, the block of code within the ```if``` statement will be executed, and if the condition is ```False```, the block of code will be ignored, and the subsequent lines of code after the ```if``` statement will then be executed. No error will be raised even if there isn't an ```else``` statement, and the code will work as expected."
   ]
  },
  {
   "cell_type": "markdown",
   "id": "0f291cce",
   "metadata": {},
   "source": [
    "# Exercise 2"
   ]
  },
  {
   "cell_type": "code",
   "execution_count": 1,
   "id": "7728cf16",
   "metadata": {},
   "outputs": [
    {
     "name": "stdout",
     "output_type": "stream",
     "text": [
      "BMI Category: Overweight\n"
     ]
    }
   ],
   "source": [
    "def calculate_bmi(weight, height):\n",
    "    try:\n",
    "        BMI = weight / (height ** 2)\n",
    "        if 0< BMI < 18.5:\n",
    "            print(\"BMI Category: Underweight\")\n",
    "        elif 18.5 <= BMI <= 24.9:\n",
    "            print(\"BMI Category: Normal Weight\")\n",
    "        elif 25 <= BMI <= 29.9:\n",
    "            print(\"BMI Category: Overweight\")\n",
    "        elif BMI >= 30: \n",
    "            print(\"BMI Category: Obese\")\n",
    "        else:\n",
    "            print(\"Please enter a proper height and weight!\")\n",
    "    except:\n",
    "        print(\"Please enter a proper height and weight!\")\n",
    "\n",
    "calculate_bmi(90, 1.75)"
   ]
  },
  {
   "cell_type": "markdown",
   "id": "38258db5",
   "metadata": {},
   "source": [
    "# Exercise 3"
   ]
  },
  {
   "cell_type": "code",
   "execution_count": 23,
   "id": "d6be21f7",
   "metadata": {},
   "outputs": [
    {
     "data": {
      "text/plain": [
       "120"
      ]
     },
     "execution_count": 23,
     "metadata": {},
     "output_type": "execute_result"
    }
   ],
   "source": [
    "def factorial(n):\n",
    "    try: \n",
    "        if n == 0:\n",
    "            return 1\n",
    "        elif n < 0:\n",
    "            print(\"Please enter an positive integer as an argument!\")\n",
    "        else:\n",
    "            factorial = 1\n",
    "            for i in range(n):\n",
    "                factorial *= (i+1)\n",
    "            return factorial\n",
    "    except:\n",
    "        print(\"Please enter an positive integer as an argument!\")\n",
    "\n",
    "factorial(5)\n"
   ]
  }
 ],
 "metadata": {
  "kernelspec": {
   "display_name": "base",
   "language": "python",
   "name": "python3"
  },
  "language_info": {
   "codemirror_mode": {
    "name": "ipython",
    "version": 3
   },
   "file_extension": ".py",
   "mimetype": "text/x-python",
   "name": "python",
   "nbconvert_exporter": "python",
   "pygments_lexer": "ipython3",
   "version": "3.13.5"
  },
  "toc": {
   "base_numbering": 1,
   "nav_menu": {},
   "number_sections": true,
   "sideBar": true,
   "skip_h1_title": false,
   "title_cell": "Table of Contents",
   "title_sidebar": "Contents",
   "toc_cell": false,
   "toc_position": {},
   "toc_section_display": true,
   "toc_window_display": false
  }
 },
 "nbformat": 4,
 "nbformat_minor": 5
}
