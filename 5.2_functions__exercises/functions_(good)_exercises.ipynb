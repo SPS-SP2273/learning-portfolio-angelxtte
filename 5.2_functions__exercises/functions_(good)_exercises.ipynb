{
 "cells": [
  {
   "attachments": {},
   "cell_type": "markdown",
   "id": "123456",
   "metadata": {},
   "source": [
    "<div style=\"text-align:left;font-size:2em\"><span style=\"font-weight:bolder;font-size:1.25em\">SP2273 | Learning Portfolio</span><br><br><span style=\"font-weight:bold;color:darkred\">Functions (Good) Exercises</span></div>"
   ]
  },
  {
   "cell_type": "markdown",
   "id": "07230b66",
   "metadata": {},
   "source": [
    "# Exercise 1"
   ]
  },
  {
   "cell_type": "code",
   "execution_count": 5,
   "id": "16fa21cb",
   "metadata": {},
   "outputs": [
    {
     "data": {
      "text/plain": [
       "290.15"
      ]
     },
     "execution_count": 5,
     "metadata": {},
     "output_type": "execute_result"
    }
   ],
   "source": [
    "def convert_celsius(temperature_celsius, target_scale = \"Fahrenheit\"):\n",
    "    if target_scale == \"Fahrenheit\":\n",
    "        return temperature_celsius * 1.8 + 32\n",
    "    elif target_scale == \"Kelvin\":\n",
    "        return temperature_celsius + 273.15\n",
    "    else: \n",
    "        return \"Please choose an appropriate target scale from 'Fahrenheit' or 'Kelvin'\"\n",
    "\n",
    "convert_celsius(17, \"Kelvin\")\n"
   ]
  },
  {
   "cell_type": "markdown",
   "id": "183f283e",
   "metadata": {},
   "source": [
    "# Exercise 2"
   ]
  },
  {
   "cell_type": "code",
   "execution_count": 7,
   "id": "4e9968f2",
   "metadata": {},
   "outputs": [
    {
     "data": {
      "text/plain": [
       "-8.333333333333334"
      ]
     },
     "execution_count": 7,
     "metadata": {},
     "output_type": "execute_result"
    }
   ],
   "source": [
    "def convert_fahrenheit(temperature_fahrenheit, target_scale = \"Celsius\"):\n",
    "    if target_scale == \"Celsius\":\n",
    "        return 5/9 * (temperature_fahrenheit - 32)\n",
    "    elif target_scale == \"Kelvin\":\n",
    "        return 5/9 * (temperature_fahrenheit - 32) + 273.15\n",
    "    else: \n",
    "        return \"Please choose an appropriate target scale from 'Celsius' or 'Kelvin'\"\n",
    "\n",
    "convert_fahrenheit(17, \"Celsius\")"
   ]
  },
  {
   "cell_type": "markdown",
   "id": "5a92ea2d",
   "metadata": {},
   "source": [
    "# Exercise 3"
   ]
  },
  {
   "cell_type": "code",
   "execution_count": 19,
   "id": "4185247e",
   "metadata": {},
   "outputs": [
    {
     "data": {
      "text/plain": [
       "10.0"
      ]
     },
     "execution_count": 19,
     "metadata": {},
     "output_type": "execute_result"
    }
   ],
   "source": [
    "def convert_temperature(temperature, source_scale, target_scale):\n",
    "    if source_scale == \"Celsius\":\n",
    "        return convert_celsius(temperature, target_scale)\n",
    "    elif source_scale == \"Fahrenheit\":\n",
    "        return convert_fahrenheit(temperature, target_scale)\n",
    "    elif source_scale == \"Kelvin\":\n",
    "        if target_scale == \"Celsius\":\n",
    "            return temperature - 273.15\n",
    "        if target_scale == \"Fahrenheit\":\n",
    "            return (temperature - 273.15) * 1.8 + 32\n",
    "        else:\n",
    "            return \"Please choose an appropriate target scale from 'Celsius', 'Fahrenheit' or 'Kelvin'\"\n",
    "    else:\n",
    "        return \"Please choose an appropriate target scale from 'Celsius', 'Fahrenheit' or 'Kelvin'\"\n",
    "\n",
    "convert_temperature(50, \"Fahrenheit\", \"Celsius\")"
   ]
  }
 ],
 "metadata": {
  "kernelspec": {
   "display_name": "base",
   "language": "python",
   "name": "python3"
  },
  "language_info": {
   "codemirror_mode": {
    "name": "ipython",
    "version": 3
   },
   "file_extension": ".py",
   "mimetype": "text/x-python",
   "name": "python",
   "nbconvert_exporter": "python",
   "pygments_lexer": "ipython3",
   "version": "3.13.5"
  },
  "toc": {
   "base_numbering": 1,
   "nav_menu": {},
   "number_sections": true,
   "sideBar": true,
   "skip_h1_title": false,
   "title_cell": "Table of Contents",
   "title_sidebar": "Contents",
   "toc_cell": false,
   "toc_position": {},
   "toc_section_display": true,
   "toc_window_display": false
  }
 },
 "nbformat": 4,
 "nbformat_minor": 5
}
