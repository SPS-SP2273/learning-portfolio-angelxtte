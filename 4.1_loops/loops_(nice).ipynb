{
 "cells": [
  {
   "attachments": {},
   "cell_type": "markdown",
   "id": "123456",
   "metadata": {},
   "source": [
    "<div style=\"text-align:left;font-size:2em\"><span style=\"font-weight:bolder;font-size:1.25em\">SP2273 | Learning Portfolio</span><br><br><span style=\"font-weight:bold;color:darkred\">Loops (Nice)</span></div>"
   ]
  },
  {
   "attachments": {},
   "cell_type": "markdown",
   "id": "123456",
   "metadata": {},
   "source": [
    "# 1 There is more to list comprehension"
   ]
  },
  {
   "cell_type": "markdown",
   "id": "a7fd8d86",
   "metadata": {},
   "source": [
    "You can have multiple loops in a list comprehension like in a nested list comprehension:"
   ]
  },
  {
   "cell_type": "code",
   "execution_count": 1,
   "id": "bab9e755",
   "metadata": {},
   "outputs": [
    {
     "data": {
      "text/plain": [
       "[[0, 'X'],\n",
       " [0, 'Y'],\n",
       " [0, 'Z'],\n",
       " [1, 'X'],\n",
       " [1, 'Y'],\n",
       " [1, 'Z'],\n",
       " [2, 'X'],\n",
       " [2, 'Y'],\n",
       " [2, 'Z'],\n",
       " [3, 'X'],\n",
       " [3, 'Y'],\n",
       " [3, 'Z'],\n",
       " [4, 'X'],\n",
       " [4, 'Y'],\n",
       " [4, 'Z']]"
      ]
     },
     "execution_count": 1,
     "metadata": {},
     "output_type": "execute_result"
    }
   ],
   "source": [
    "[[a, b] for a in range(5) for b in [\"X\", \"Y\", \"Z\"]]\n",
    "# Goes through 0, then from one letter to another, then to 1 and so on."
   ]
  },
  {
   "cell_type": "markdown",
   "id": "eb9b9c3f",
   "metadata": {},
   "source": [
    "Conditions can also be incorporated into the nested list comprehension:"
   ]
  },
  {
   "cell_type": "code",
   "execution_count": 2,
   "id": "5b6b1de6",
   "metadata": {},
   "outputs": [
    {
     "data": {
      "text/plain": [
       "[[1, 'X'], [1, 'Y'], [1, 'Z'], [3, 'X'], [3, 'Y'], [3, 'Z']]"
      ]
     },
     "execution_count": 2,
     "metadata": {},
     "output_type": "execute_result"
    }
   ],
   "source": [
    "[[a, b] for a in range(5) for b in [\"X\", \"Y\", \"Z\"] if a % 2 != 0]\n",
    "# the value of a must be odd"
   ]
  },
  {
   "cell_type": "markdown",
   "id": "23a81df5",
   "metadata": {},
   "source": [
    "The two blocks of code below do the same thing:"
   ]
  },
  {
   "cell_type": "code",
   "execution_count": 3,
   "id": "9cd53d5c",
   "metadata": {},
   "outputs": [
    {
     "data": {
      "text/plain": [
       "[1, 2, 3, 4, 5, 6, 7]"
      ]
     },
     "execution_count": 3,
     "metadata": {},
     "output_type": "execute_result"
    }
   ],
   "source": [
    "nested_list = [[1, 2, 3], [4, 5, 6, 7]]\n",
    "[y for x in nested_list for y in x]\n",
    "# x refers to the two lists in the nested_list, and y is the individual elements within x"
   ]
  },
  {
   "cell_type": "code",
   "execution_count": 8,
   "id": "8730ceb2",
   "metadata": {},
   "outputs": [
    {
     "name": "stdout",
     "output_type": "stream",
     "text": [
      "[1, 2, 3, 4, 5, 6, 7]\n"
     ]
    }
   ],
   "source": [
    "output = []\n",
    "for x in nested_list:\n",
    "    for y in x:\n",
    "        output.append(y)\n",
    "print(output)"
   ]
  },
  {
   "attachments": {},
   "cell_type": "markdown",
   "id": "123456",
   "metadata": {},
   "source": [
    "# 2 Zipping a dictionary"
   ]
  },
  {
   "cell_type": "markdown",
   "id": "c2311b70",
   "metadata": {},
   "source": [
    "```zip()``` is an effective way to combine two lists into a dictionary:"
   ]
  },
  {
   "cell_type": "code",
   "execution_count": 13,
   "id": "e863c82e",
   "metadata": {},
   "outputs": [
    {
     "data": {
      "text/plain": [
       "{'Natasha Romanoff': 'Black Widow',\n",
       " 'Tony Stark': 'Iron Man',\n",
       " 'Stephen Strange': 'Doctor Strange'}"
      ]
     },
     "execution_count": 13,
     "metadata": {},
     "output_type": "execute_result"
    }
   ],
   "source": [
    "super_names=[\"Black Widow\", \"Iron Man\", \"Doctor Strange\"]\n",
    "real_names=[\"Natasha Romanoff\", \"Tony Stark\", \"Stephen Strange\"]\n",
    "\n",
    "dict(zip(real_names, super_names))\n",
    "# Combine the two files together first using zip(), then use dict() to convert it to a dictionary!\n",
    "# The dictionary will map the first element of the first list as the key to the first element of the second list as the value!"
   ]
  },
  {
   "attachments": {},
   "cell_type": "markdown",
   "id": "123456",
   "metadata": {},
   "source": [
    "# 3 for and while has an else"
   ]
  },
  {
   "cell_type": "markdown",
   "id": "691e113b",
   "metadata": {},
   "source": [
    "An ```else``` statement (that isn't indented) can be added at the end of the ```for``` loop. This ```else``` code block only runs if the loop is completed, and not if it ends prematurely by, for example, using ```break```."
   ]
  },
  {
   "cell_type": "code",
   "execution_count": 14,
   "id": "c326e9a8",
   "metadata": {},
   "outputs": [
    {
     "name": "stdout",
     "output_type": "stream",
     "text": [
      "No negative numbers in the list\n"
     ]
    }
   ],
   "source": [
    "numbers = [0, 1, 2, 3, 4, 5, 6, 7, 8, 9]\n",
    "\n",
    "for i in numbers:\n",
    "    if i < 0: \n",
    "        break\n",
    "else: # Take note of the (lack of) indentation here, it's different from when it is indented.\n",
    "    print('No negative numbers in the list')"
   ]
  },
  {
   "cell_type": "code",
   "execution_count": 18,
   "id": "982ce23f",
   "metadata": {},
   "outputs": [],
   "source": [
    "numbers = [-1, 0, 1, 2, 3, 4, 5, 6, 7, 8, 9]\n",
    "\n",
    "for i in numbers:\n",
    "    if i < 0: \n",
    "        break\n",
    "else: # Take note of the (lack of) indentation here, it's different from when it is indented.\n",
    "    print('No negative numbers in the list')"
   ]
  },
  {
   "cell_type": "markdown",
   "id": "715e7f00",
   "metadata": {},
   "source": [
    "Nothing is printed, so the ```else``` statement can be used to distinguish if the loop was completed or if there was a ```break```, ```return``` or an exception."
   ]
  }
 ],
 "metadata": {
  "kernelspec": {
   "display_name": "base",
   "language": "python",
   "name": "python3"
  },
  "language_info": {
   "codemirror_mode": {
    "name": "ipython",
    "version": 3
   },
   "file_extension": ".py",
   "mimetype": "text/x-python",
   "name": "python",
   "nbconvert_exporter": "python",
   "pygments_lexer": "ipython3",
   "version": "3.13.5"
  },
  "toc": {
   "base_numbering": 1,
   "nav_menu": {},
   "number_sections": true,
   "sideBar": true,
   "skip_h1_title": false,
   "title_cell": "Table of Contents",
   "title_sidebar": "Contents",
   "toc_cell": false,
   "toc_position": {},
   "toc_section_display": true,
   "toc_window_display": false
  }
 },
 "nbformat": 4,
 "nbformat_minor": 5
}
