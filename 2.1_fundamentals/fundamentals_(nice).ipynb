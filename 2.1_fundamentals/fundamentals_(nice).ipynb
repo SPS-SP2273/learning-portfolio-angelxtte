{
 "cells": [
  {
   "attachments": {},
   "cell_type": "markdown",
   "id": "123456",
   "metadata": {},
   "source": [
    "<div style=\"text-align:left;font-size:2em\"><span style=\"font-weight:bolder;font-size:1.25em\">SP2273 | Learning Portfolio</span><br><br><span style=\"font-weight:bold;color:darkred\">Fundamentals (Nice)</span></div>"
   ]
  },
  {
   "attachments": {},
   "cell_type": "markdown",
   "id": "123456",
   "metadata": {},
   "source": [
    "# 1 If if is not enough"
   ]
  },
  {
   "cell_type": "markdown",
   "id": "7686b3f5",
   "metadata": {},
   "source": [
    "When the ```if-else-else``` statements become too complicated, ```match-case``` can be used instead:"
   ]
  },
  {
   "cell_type": "code",
   "execution_count": 1,
   "id": "353bfda7",
   "metadata": {},
   "outputs": [
    {
     "name": "stdout",
     "output_type": "stream",
     "text": [
      "Hello Batman!\n"
     ]
    }
   ],
   "source": [
    "name = \"Batman\"\n",
    "\n",
    "match name:\n",
    "    case \"Batman\":\n",
    "        print(\"Hello Batman!\")\n",
    "    case \"Robin\":\n",
    "        print(\"Hello Robin!\")\n",
    "    case _:\n",
    "        print(\"Hello World!\")"
   ]
  },
  {
   "cell_type": "markdown",
   "id": "5fee417e",
   "metadata": {},
   "source": [
    "In this case, ```_``` acts as a placeholder or throwaway variable."
   ]
  },
  {
   "attachments": {},
   "cell_type": "markdown",
   "id": "123456",
   "metadata": {},
   "source": [
    "# 2 Ternary operators or Conditional Statements"
   ]
  },
  {
   "cell_type": "markdown",
   "id": "f4690e9d",
   "metadata": {},
   "source": [
    "Python has **ternary operators** (operators that contain three parts) that can make code more readable."
   ]
  },
  {
   "cell_type": "code",
   "execution_count": 2,
   "id": "b4bc93c7",
   "metadata": {},
   "outputs": [
    {
     "name": "stdout",
     "output_type": "stream",
     "text": [
      "Bonjour!\n"
     ]
    }
   ],
   "source": [
    "nationality = \"French\"\n",
    "if nationality == \"French\":\n",
    "    greeting = \"Bonjour!\"\n",
    "else: \n",
    "    greeting = \"Hello\"\n",
    "print(greeting)"
   ]
  },
  {
   "cell_type": "markdown",
   "id": "42e5cb3d",
   "metadata": {},
   "source": [
    "However, using a ternary operator:"
   ]
  },
  {
   "cell_type": "code",
   "execution_count": 4,
   "id": "fd41c71c",
   "metadata": {},
   "outputs": [
    {
     "name": "stdout",
     "output_type": "stream",
     "text": [
      "Bonjour!\n"
     ]
    }
   ],
   "source": [
    "greeting = \"Bonjour!\" if nationality == \"French\" else \"Hello\"\n",
    "print(greeting)"
   ]
  },
  {
   "cell_type": "markdown",
   "id": "b774dd1a",
   "metadata": {},
   "source": [
    "The above can be treated as directly assigning the variable greeting \"Bonjour!' if ```nationality == \"French'```, else it will be assigned \"Hello\"."
   ]
  },
  {
   "cell_type": "code",
   "execution_count": 5,
   "id": "bff3d34a",
   "metadata": {},
   "outputs": [
    {
     "data": {
      "text/plain": [
       "'Bonjour!'"
      ]
     },
     "execution_count": 5,
     "metadata": {},
     "output_type": "execute_result"
    }
   ],
   "source": [
    "(\"Hello!\", \"Bonjour!\")[nationality == \"French\"]"
   ]
  },
  {
   "cell_type": "markdown",
   "id": "109a6e17",
   "metadata": {},
   "source": [
    "In this case, the first variable in ```(\"Hello!\", \"Bonjour!\")``` is equivalent to the ```True``` condition output while the second variable is equivalent to the ```False``` condition output. ```[nationality == \"French\"]``` is the condition."
   ]
  },
  {
   "cell_type": "code",
   "execution_count": 6,
   "id": "c7ea2871",
   "metadata": {},
   "outputs": [
    {
     "data": {
      "text/plain": [
       "'Bonjour!'"
      ]
     },
     "execution_count": 6,
     "metadata": {},
     "output_type": "execute_result"
    }
   ],
   "source": [
    "{False: \"Hello!\", True:\"Bonjour!\"}[nationality == \"French\"]"
   ]
  },
  {
   "cell_type": "code",
   "execution_count": 10,
   "id": "3adcc4de",
   "metadata": {},
   "outputs": [
    {
     "name": "stdout",
     "output_type": "stream",
     "text": [
      "No message!\n"
     ]
    }
   ],
   "source": [
    "text = None\n",
    "message = text or \"No message!\"\n",
    "print(message)"
   ]
  },
  {
   "cell_type": "code",
   "execution_count": 11,
   "id": "937370ca",
   "metadata": {},
   "outputs": [
    {
     "name": "stdout",
     "output_type": "stream",
     "text": [
      "No message!\n"
     ]
    }
   ],
   "source": [
    "if text:\n",
    "    print(text)\n",
    "else:\n",
    "    print(\"No message!\")"
   ]
  },
  {
   "cell_type": "code",
   "execution_count": 14,
   "id": "1af0fac4",
   "metadata": {},
   "outputs": [
    {
     "name": "stdout",
     "output_type": "stream",
     "text": [
      "Hello\n"
     ]
    }
   ],
   "source": [
    "text = \"Hello\"\n",
    "message = text or \"No message!\"\n",
    "print(message)"
   ]
  },
  {
   "cell_type": "markdown",
   "id": "8b0440e2",
   "metadata": {},
   "source": [
    "In this case, the ```or``` operator takes the first ```True``` argument and prints that argument."
   ]
  },
  {
   "attachments": {},
   "cell_type": "markdown",
   "id": "123456",
   "metadata": {},
   "source": [
    "# 3 Swapping values"
   ]
  },
  {
   "cell_type": "markdown",
   "id": "398ab51e",
   "metadata": {},
   "source": [
    "Two variables can be swapped, but **only in Python**:"
   ]
  },
  {
   "cell_type": "code",
   "execution_count": 15,
   "id": "a8e075ac",
   "metadata": {},
   "outputs": [
    {
     "name": "stdout",
     "output_type": "stream",
     "text": [
      "2 1\n"
     ]
    }
   ],
   "source": [
    "a, b = 1, 2\n",
    "a, b = b, a\n",
    "print(a, b)"
   ]
  },
  {
   "attachments": {},
   "cell_type": "markdown",
   "id": "123456",
   "metadata": {},
   "source": [
    "# 4 There are more types"
   ]
  },
  {
   "cell_type": "markdown",
   "id": "6cd5502b",
   "metadata": {},
   "source": [
    "There are different levels of precision for which float values can be stored as. Higher precision float types like ```np.float32``` or ```np.float64``` can be used."
   ]
  },
  {
   "cell_type": "code",
   "execution_count": null,
   "id": "fdbd0de2",
   "metadata": {},
   "outputs": [
    {
     "name": "stdout",
     "output_type": "stream",
     "text": [
      "float           2.220446049250313e-16\n",
      "float16         0.000977\n",
      "float32         1.1920929e-07\n",
      "float64         2.220446049250313e-16\n"
     ]
    }
   ],
   "source": [
    "import numpy as np\n",
    "my_types = [float, np.float16, np.float32, \n",
    "            np.float64] # np.float128 is not available!\n",
    "for my_type in my_types:\n",
    "    print(f\"{my_type.__name__:<15s}\", np.finfo(my_type).eps)"
   ]
  },
  {
   "cell_type": "markdown",
   "id": "b7ede2b8",
   "metadata": {},
   "source": [
    "Here, ```np.finfo(my_type).eps``` finds the limits applicable to floating point operations (in this case, ```float```, ```np.float16```, ```np.float32``` and ```np.float64```) and ```.eps``` takes the difference between 1.0 and the next biggest nearest float that can be represented."
   ]
  },
  {
   "attachments": {},
   "cell_type": "markdown",
   "id": "123456",
   "metadata": {},
   "source": [
    "# 5 Operator precedance"
   ]
  },
  {
   "cell_type": "markdown",
   "id": "df42e323",
   "metadata": {},
   "source": [
    "There is a \"pecking order\" among the operators in Python, and this is called operator precedence. The highest precedence is at the top, and the operators is the same box evaluate left to right."
   ]
  },
  {
   "cell_type": "markdown",
   "id": "73561939",
   "metadata": {},
   "source": [
    "|Description|Operator|\n",
    "|:-------|:------:|\n",
    "|Parentheses (grouping)|```()```|\n",
    "|Function Call|```f(args...)```|\n",
    "|Slicing|```x[index:index]```|\n",
    "|Subscription|```x[index]```|\n",
    "|Attribute Reference|```x.attribute```|\n",
    "|Exponentiation|```**```|\n",
    "|Bitwise not|```~x```|\n",
    "|Positive, negative|```+x```, ```-x```|\n",
    "|Multiplication, division, remainder|```*```, ```/```, ```%```|\n",
    "|Addition, Subtraction|```+```, ```-```|\n",
    "|Bitwise shifts|```<<```, ```>>```|\n",
    "|Bitwise AND|```&```|\n",
    "|Bitwise XOR|```^```|\n",
    "|Bitwise OR|```\\|```|\n",
    "|Comparisons, membership, identity|```in, not in, is, is not, <, <=, >, >=, <>, !=, ==```|\n",
    "|Boolean NOT|```not x```|\n",
    "|Boolean AND|```and```|\n",
    "|Boolean OR|```or```|\n",
    "|Lambda Expression|```lambda```|"
   ]
  },
  {
   "attachments": {},
   "cell_type": "markdown",
   "id": "123456",
   "metadata": {},
   "source": [
    "# 6 Variables in Python are just names"
   ]
  },
  {
   "attachments": {},
   "cell_type": "markdown",
   "id": "123456",
   "metadata": {},
   "source": [
    "## 6.1 The Problem"
   ]
  },
  {
   "cell_type": "code",
   "execution_count": 1,
   "id": "463f4e2d",
   "metadata": {},
   "outputs": [
    {
     "name": "stdout",
     "output_type": "stream",
     "text": [
      "x: [1, 2, 3], y: [1, 2, 3]\n"
     ]
    }
   ],
   "source": [
    "x = [1, 2]\n",
    "y = x\n",
    "y.append(3)\n",
    "\n",
    "print(f\"x: {x}, y: {y}\")"
   ]
  },
  {
   "attachments": {},
   "cell_type": "markdown",
   "id": "123456",
   "metadata": {},
   "source": [
    "## 6.2 An explanation"
   ]
  },
  {
   "cell_type": "code",
   "execution_count": 2,
   "id": "d10c8459",
   "metadata": {},
   "outputs": [
    {
     "name": "stdout",
     "output_type": "stream",
     "text": [
      "x: 140731993863080, y: 140731993863080, 1: 140731993863080\n"
     ]
    }
   ],
   "source": [
    "x = 1\n",
    "y = 1\n",
    "\n",
    "print(f\"x: {id(x)}, y: {id(y)}, 1: {id(1)}\")"
   ]
  },
  {
   "cell_type": "markdown",
   "id": "e9c96903",
   "metadata": {},
   "source": [
    "```x```, ```y``` both have the same id as ```1```."
   ]
  },
  {
   "cell_type": "markdown",
   "id": "f60a9295",
   "metadata": {},
   "source": [
    "Before the code is run, Python has objects like ```1``` and ```a``` that have three properties **type**, **value** and **id**. For example, ```1``` can have the value 1, type ```int``` and some id. ```a``` can have the value \"a\", type ```str``` and some id too."
   ]
  },
  {
   "cell_type": "markdown",
   "id": "2537d17b",
   "metadata": {},
   "source": [
    "After the code is run, ```x``` and ```y``` are bound to ```1```. So ```x``` and ```y``` are referred to as names that are bound to ```1```."
   ]
  },
  {
   "cell_type": "code",
   "execution_count": 3,
   "id": "d5a2f8d2",
   "metadata": {},
   "outputs": [
    {
     "name": "stdout",
     "output_type": "stream",
     "text": [
      "x: 140731993863080, y: 140731993863112\n"
     ]
    }
   ],
   "source": [
    "x = 1\n",
    "y = x + 1\n",
    "\n",
    "print(f\"x: {id(x)}, y: {id(y)}\")"
   ]
  },
  {
   "cell_type": "code",
   "execution_count": 4,
   "id": "4b0c7d99",
   "metadata": {},
   "outputs": [
    {
     "name": "stdout",
     "output_type": "stream",
     "text": [
      "1: 140731993863080, 2: 140731993863112\n"
     ]
    }
   ],
   "source": [
    "print(f\"1: {id(1)}, 2: {id(2)}\")"
   ]
  },
  {
   "cell_type": "markdown",
   "id": "2054793b",
   "metadata": {},
   "source": [
    "Since the mathematical operation requires ```y``` to have the value ```2```, ```y``` now gets bound to the object ```2```. This happens because the value of object ```1``` cannot be changed so the binding is changed instead."
   ]
  },
  {
   "cell_type": "markdown",
   "id": "ba8c8c75",
   "metadata": {},
   "source": [
    "Other immutable objects include ```str```, ```float```, ```bool``` and ```tuple```."
   ]
  },
  {
   "cell_type": "markdown",
   "id": "71c8b13a",
   "metadata": {},
   "source": [
    "Mutable objects include ```lists``` and ```dictionaries```, and they behave differently as shown in the problem above."
   ]
  },
  {
   "cell_type": "markdown",
   "id": "e268b061",
   "metadata": {},
   "source": [
    "In the problem code, ```x``` is bound to a list object with value ```[1, 2]```, and ```y``` is subsequently bound to the same list object with value ```[1, 2]```. ```y``` is used to change the value of the object from ```[1, 2]``` to ```[1, 2, 3]```"
   ]
  },
  {
   "attachments": {},
   "cell_type": "markdown",
   "id": "123456",
   "metadata": {},
   "source": [
    "## 6.3 A solution"
   ]
  },
  {
   "cell_type": "markdown",
   "id": "285638ad",
   "metadata": {},
   "source": [
    "To have an indepenent copy, you should use:"
   ]
  },
  {
   "cell_type": "code",
   "execution_count": null,
   "id": "1f34345c",
   "metadata": {},
   "outputs": [
    {
     "name": "stdout",
     "output_type": "stream",
     "text": [
      "x: 2351375790592, y: 2351375977088\n"
     ]
    }
   ],
   "source": [
    "x = [1, 2]\n",
    "y = x.copy()\n",
    "print(f\"x: {id(x)}, y: {id(y)}\")"
   ]
  },
  {
   "attachments": {},
   "cell_type": "markdown",
   "id": "123456",
   "metadata": {},
   "source": [
    "# 7 == is not the same as is"
   ]
  },
  {
   "cell_type": "markdown",
   "id": "b82b993c",
   "metadata": {},
   "source": [
    "```==``` and ```is``` are two examples of ways to compare \"items\". The main difference between them is:\n",
    "\n",
    "```x is y``` checks for identity by checking if they are bound to the same object by comparing the ID.\n",
    "\n",
    "```x == y``` checks for equality by running a function that checks for equality (such as ```_eq_``` of a class)."
   ]
  },
  {
   "cell_type": "code",
   "execution_count": 8,
   "id": "0b0e8542",
   "metadata": {},
   "outputs": [
    {
     "name": "stdout",
     "output_type": "stream",
     "text": [
      "x: 2351374558528, y: 2351375949632\n",
      "False\n",
      "True\n"
     ]
    }
   ],
   "source": [
    "x = [1, 2]\n",
    "y = x.copy()\n",
    "print(f\"x: {id(x)}, y: {id(y)}\")\n",
    "print(x is y) # They have different IDs\n",
    "print(x == y) # Equality test"
   ]
  },
  {
   "attachments": {},
   "cell_type": "markdown",
   "id": "123456",
   "metadata": {},
   "source": [
    "## Footnotes"
   ]
  }
 ],
 "metadata": {
  "kernelspec": {
   "display_name": "base",
   "language": "python",
   "name": "python3"
  },
  "language_info": {
   "codemirror_mode": {
    "name": "ipython",
    "version": 3
   },
   "file_extension": ".py",
   "mimetype": "text/x-python",
   "name": "python",
   "nbconvert_exporter": "python",
   "pygments_lexer": "ipython3",
   "version": "3.13.5"
  },
  "toc": {
   "base_numbering": 1,
   "nav_menu": {},
   "number_sections": true,
   "sideBar": true,
   "skip_h1_title": false,
   "title_cell": "Table of Contents",
   "title_sidebar": "Contents",
   "toc_cell": false,
   "toc_position": {},
   "toc_section_display": true,
   "toc_window_display": false
  }
 },
 "nbformat": 4,
 "nbformat_minor": 5
}
