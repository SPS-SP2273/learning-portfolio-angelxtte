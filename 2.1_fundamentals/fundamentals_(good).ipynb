{
 "cells": [
  {
   "attachments": {},
   "cell_type": "markdown",
   "id": "123456",
   "metadata": {},
   "source": [
    "<div style=\"text-align:left;font-size:2em\"><span style=\"font-weight:bolder;font-size:1.25em\">SP2273 | Learning Portfolio</span><br><br><span style=\"font-weight:bold;color:darkred\">Fundamentals (Good)</span></div>"
   ]
  },
  {
   "attachments": {},
   "cell_type": "markdown",
   "id": "123456",
   "metadata": {},
   "source": [
    "# What to expect in this chapter"
   ]
  },
  {
   "attachments": {},
   "cell_type": "markdown",
   "id": "123456",
   "metadata": {},
   "source": [
    "# 1 There is more to if"
   ]
  },
  {
   "cell_type": "markdown",
   "id": "bfb66593",
   "metadata": {},
   "source": [
    "If multiple branches in an ```if``` statement is needed, ```elif``` statement can be used!"
   ]
  },
  {
   "cell_type": "code",
   "execution_count": 1,
   "id": "821c72f6",
   "metadata": {},
   "outputs": [
    {
     "name": "stdout",
     "output_type": "stream",
     "text": [
      "Hello Batman!\n"
     ]
    }
   ],
   "source": [
    "name = \"Batman\"\n",
    "\n",
    "if name == \"Batman\":\n",
    "    print(\"Hello Batman!\")\n",
    "elif name == \"Robin\":\n",
    "    print(\"Hello Sidekick!\")\n",
    "else: \n",
    "    print(\"Hello World!\")"
   ]
  },
  {
   "cell_type": "code",
   "execution_count": 2,
   "id": "6896aca3",
   "metadata": {},
   "outputs": [
    {
     "name": "stdout",
     "output_type": "stream",
     "text": [
      "Hello Sidekick!\n"
     ]
    }
   ],
   "source": [
    "name = \"Robin\"\n",
    "\n",
    "if name == \"Batman\":\n",
    "    print(\"Hello Batman!\")\n",
    "elif name == \"Robin\":\n",
    "    print(\"Hello Sidekick!\")\n",
    "else: \n",
    "    print(\"Hello World!\")"
   ]
  },
  {
   "attachments": {},
   "cell_type": "markdown",
   "id": "123456",
   "metadata": {},
   "source": [
    "# 2 Asking questions"
   ]
  },
  {
   "cell_type": "code",
   "execution_count": 3,
   "id": "5ab46cd6",
   "metadata": {},
   "outputs": [],
   "source": [
    "fruits = [\"apple\", \"banana\", \"pineapple\", \"jackfruit\"]\n",
    "vegetables = [\"celery\", \"potato\", \"broccoli\", \"kale\"]"
   ]
  },
  {
   "cell_type": "code",
   "execution_count": 7,
   "id": "55e4efa6",
   "metadata": {},
   "outputs": [
    {
     "data": {
      "text/plain": [
       "True"
      ]
     },
     "execution_count": 7,
     "metadata": {},
     "output_type": "execute_result"
    }
   ],
   "source": [
    "\"apple\" in fruits # Is \"apple\" in the list fruits?"
   ]
  },
  {
   "cell_type": "code",
   "execution_count": 6,
   "id": "a0a952f1",
   "metadata": {},
   "outputs": [
    {
     "data": {
      "text/plain": [
       "False"
      ]
     },
     "execution_count": 6,
     "metadata": {},
     "output_type": "execute_result"
    }
   ],
   "source": [
    "\"peach\" in fruits # Is \"peach\" in the list fruits?"
   ]
  },
  {
   "cell_type": "code",
   "execution_count": 8,
   "id": "f0b7a989",
   "metadata": {},
   "outputs": [
    {
     "data": {
      "text/plain": [
       "True"
      ]
     },
     "execution_count": 8,
     "metadata": {},
     "output_type": "execute_result"
    }
   ],
   "source": [
    "(\"apple\" in fruits) and (\"celery\" in vegetables) # Is \"apples\" in the list fruits and is \"celery\" in the list vegetables"
   ]
  },
  {
   "cell_type": "code",
   "execution_count": 9,
   "id": "be3c9794",
   "metadata": {},
   "outputs": [
    {
     "data": {
      "text/plain": [
       "True"
      ]
     },
     "execution_count": 9,
     "metadata": {},
     "output_type": "execute_result"
    }
   ],
   "source": [
    "\"apple\" in fruits and \"celery\" in vegetables"
   ]
  },
  {
   "cell_type": "code",
   "execution_count": 10,
   "id": "37d39522",
   "metadata": {},
   "outputs": [
    {
     "data": {
      "text/plain": [
       "True"
      ]
     },
     "execution_count": 10,
     "metadata": {},
     "output_type": "execute_result"
    }
   ],
   "source": [
    "\"apple\" in fruits or \"peach\" in fruits"
   ]
  },
  {
   "cell_type": "code",
   "execution_count": 11,
   "id": "a18cab86",
   "metadata": {},
   "outputs": [
    {
     "data": {
      "text/plain": [
       "True"
      ]
     },
     "execution_count": 11,
     "metadata": {},
     "output_type": "execute_result"
    }
   ],
   "source": [
    "\"app\" in \"apple\""
   ]
  },
  {
   "cell_type": "code",
   "execution_count": 12,
   "id": "429f6334",
   "metadata": {},
   "outputs": [
    {
     "data": {
      "text/plain": [
       "False"
      ]
     },
     "execution_count": 12,
     "metadata": {},
     "output_type": "execute_result"
    }
   ],
   "source": [
    "\"apples\" > \"oranges\""
   ]
  },
  {
   "cell_type": "markdown",
   "id": "0e404fb9",
   "metadata": {},
   "source": [
    "Python can only compare similar things, and strings can be compared because the letters are representeed internally as numbers (i.e. \"a\" is 97 and \"o\" is 111)"
   ]
  },
  {
   "attachments": {},
   "cell_type": "markdown",
   "id": "123456",
   "metadata": {},
   "source": [
    "## 2.1 Asking Math questions"
   ]
  },
  {
   "cell_type": "code",
   "execution_count": 13,
   "id": "1384bc17",
   "metadata": {},
   "outputs": [
    {
     "data": {
      "text/plain": [
       "True"
      ]
     },
     "execution_count": 13,
     "metadata": {},
     "output_type": "execute_result"
    }
   ],
   "source": [
    "x = 10\n",
    "x > 5 and x < 15"
   ]
  },
  {
   "cell_type": "code",
   "execution_count": 14,
   "id": "070d7494",
   "metadata": {},
   "outputs": [
    {
     "data": {
      "text/plain": [
       "True"
      ]
     },
     "execution_count": 14,
     "metadata": {},
     "output_type": "execute_result"
    }
   ],
   "source": [
    "5 < x < 15"
   ]
  },
  {
   "cell_type": "code",
   "execution_count": 15,
   "id": "6a1557a1",
   "metadata": {},
   "outputs": [
    {
     "data": {
      "text/plain": [
       "True"
      ]
     },
     "execution_count": 15,
     "metadata": {},
     "output_type": "execute_result"
    }
   ],
   "source": [
    "x >= 10"
   ]
  },
  {
   "cell_type": "code",
   "execution_count": 16,
   "id": "3469d69b",
   "metadata": {},
   "outputs": [
    {
     "data": {
      "text/plain": [
       "True"
      ]
     },
     "execution_count": 16,
     "metadata": {},
     "output_type": "execute_result"
    }
   ],
   "source": [
    "x != 5"
   ]
  },
  {
   "attachments": {},
   "cell_type": "markdown",
   "id": "123456",
   "metadata": {},
   "source": [
    "# 3 Python stores information in different formats or types"
   ]
  },
  {
   "cell_type": "code",
   "execution_count": 24,
   "id": "c0697e58",
   "metadata": {},
   "outputs": [
    {
     "name": "stdout",
     "output_type": "stream",
     "text": [
      "1.234 <class 'float'>\n",
      "(1.234+0j) <class 'complex'>\n",
      "(1.234+0j) <class 'str'>\n"
     ]
    }
   ],
   "source": [
    "x = 1.234\n",
    "print(x, type(x))\n",
    "x = complex(x)\n",
    "print(x, type(x))\n",
    "x = str(x)\n",
    "print(x, type(x))"
   ]
  },
  {
   "cell_type": "code",
   "execution_count": 25,
   "id": "3ab52323",
   "metadata": {},
   "outputs": [
    {
     "name": "stdout",
     "output_type": "stream",
     "text": [
      "1 <class 'int'>\n"
     ]
    }
   ],
   "source": [
    "x = int(1.234)\n",
    "print(x , type(x))"
   ]
  },
  {
   "cell_type": "markdown",
   "id": "c9a95ba8",
   "metadata": {},
   "source": [
    "This process is called typecasting."
   ]
  },
  {
   "attachments": {},
   "cell_type": "markdown",
   "id": "123456",
   "metadata": {},
   "source": [
    "# 4 Never compare floats directly"
   ]
  },
  {
   "attachments": {},
   "cell_type": "markdown",
   "id": "123456",
   "metadata": {},
   "source": [
    "## 4.1 The Problem"
   ]
  },
  {
   "cell_type": "markdown",
   "id": "a477ec3b",
   "metadata": {},
   "source": [
    "Floating point numbers cannot be stored exactly in the computer (i.e. it might be 0.3 but could be 0.2999999...). This leads to errors called roundoff errors."
   ]
  },
  {
   "cell_type": "code",
   "execution_count": 12,
   "id": "7316ebe1",
   "metadata": {},
   "outputs": [
    {
     "data": {
      "text/plain": [
       "False"
      ]
     },
     "execution_count": 12,
     "metadata": {},
     "output_type": "execute_result"
    }
   ],
   "source": [
    "a = 0.1 \n",
    "a3 = 0.3\n",
    "a * 3 == a3"
   ]
  },
  {
   "cell_type": "code",
   "execution_count": 13,
   "id": "59973b0a",
   "metadata": {},
   "outputs": [
    {
     "data": {
      "text/plain": [
       "'0.29999999999999999'"
      ]
     },
     "execution_count": 13,
     "metadata": {},
     "output_type": "execute_result"
    }
   ],
   "source": [
    "f'{0.3:.17f}'"
   ]
  },
  {
   "cell_type": "markdown",
   "id": "f6a4f81a",
   "metadata": {},
   "source": [
    "This prints 0.3 to 17 decimal places."
   ]
  },
  {
   "attachments": {},
   "cell_type": "markdown",
   "id": "123456",
   "metadata": {},
   "source": [
    "## 4.2 A solution"
   ]
  },
  {
   "cell_type": "markdown",
   "id": "fa2ca980",
   "metadata": {},
   "source": [
    "As such, to get around this issue, you can check if the variable is **close** to the expected value instead of checking for quality."
   ]
  },
  {
   "cell_type": "code",
   "execution_count": 14,
   "id": "faf16bc0",
   "metadata": {},
   "outputs": [
    {
     "name": "stdout",
     "output_type": "stream",
     "text": [
      "5.551115123125783e-17\n"
     ]
    },
    {
     "data": {
      "text/plain": [
       "True"
      ]
     },
     "execution_count": 14,
     "metadata": {},
     "output_type": "execute_result"
    }
   ],
   "source": [
    "eps = 1E-10 # This is 1 x 10^(-10)\n",
    "print(abs(a * 3 - a3))\n",
    "abs(a * 3 - a3) < eps"
   ]
  },
  {
   "cell_type": "markdown",
   "id": "dbd5fa36",
   "metadata": {},
   "source": [
    "Or Numpy can be used instead."
   ]
  },
  {
   "cell_type": "code",
   "execution_count": 15,
   "id": "b97be7be",
   "metadata": {},
   "outputs": [
    {
     "data": {
      "text/plain": [
       "np.True_"
      ]
     },
     "execution_count": 15,
     "metadata": {},
     "output_type": "execute_result"
    }
   ],
   "source": [
    "import numpy as np\n",
    "np.isclose(a * 3, a3)"
   ]
  },
  {
   "attachments": {},
   "cell_type": "markdown",
   "id": "123456",
   "metadata": {},
   "source": [
    "# 5 Combining English and variables"
   ]
  },
  {
   "cell_type": "markdown",
   "id": "35eabb06",
   "metadata": {},
   "source": [
    "f-strings can be used to combine strings with variables."
   ]
  },
  {
   "cell_type": "code",
   "execution_count": 32,
   "id": "1234757e",
   "metadata": {},
   "outputs": [
    {
     "name": "stdout",
     "output_type": "stream",
     "text": [
      "Hello Batman\n",
      "Hello BATMAN\n",
      "The value of 10 squared is 100\n"
     ]
    }
   ],
   "source": [
    "name = \"Batman\"\n",
    "x = 10\n",
    "print(f\"Hello {name}\")\n",
    "print(f\"Hello {name.upper()}\")\n",
    "print(f\"The value of {x} squared is {x**2}\")"
   ]
  },
  {
   "cell_type": "markdown",
   "id": "d5d182c6",
   "metadata": {},
   "source": [
    "f-strings can also be used to format strings."
   ]
  },
  {
   "cell_type": "code",
   "execution_count": null,
   "id": "076172dd",
   "metadata": {},
   "outputs": [
    {
     "name": "stdout",
     "output_type": "stream",
     "text": [
      "Bruce Wayne is Batman\n",
      "Bruce Wayne is Batman\n",
      "    Bruce Wayne is Batman     \n",
      "Bruce Wayne is Batman\n",
      "Bruce Wayne is Batman         \n",
      "Bruce Wayne is Batman\n",
      "         Bruce Wayne is Batman\n"
     ]
    }
   ],
   "source": [
    "text = \"Bruce Wayne is Batman\"\n",
    "print(f\"{text}\")\n",
    "print(f\"{text:^}\") # aligned centre\n",
    "print(f\"{text:^30}\")\n",
    "print(f\"{text:<}\") # aligned left\n",
    "print(f\"{text:<30}\")\n",
    "print(f\"{text:>}\") # aligned right\n",
    "print(f\"{text:>30}\")"
   ]
  },
  {
   "cell_type": "code",
   "execution_count": 17,
   "id": "becacf07",
   "metadata": {},
   "outputs": [
    {
     "name": "stdout",
     "output_type": "stream",
     "text": [
      "The cube of pi to 6 decimal places is 31.006277\n",
      "The cube of pi to 6 decimal places is 3.100628e+01\n",
      "The cube of pi to 6 decimal places is 31.0063\n"
     ]
    }
   ],
   "source": [
    "print(f\"The cube of pi to 6 decimal places is {np.pi**3:.6f}\") # as a float\n",
    "print(f\"The cube of pi to 6 decimal places is {np.pi**3:.6e}\") # in scientific notation\n",
    "print(f\"The cube of pi to 6 decimal places is {np.pi**3:.6}\") "
   ]
  },
  {
   "attachments": {},
   "cell_type": "markdown",
   "id": "123456",
   "metadata": {},
   "source": [
    "## 5.1 Structure of f-strings"
   ]
  },
  {
   "cell_type": "markdown",
   "id": "a7779324",
   "metadata": {},
   "source": [
    "f-strings formatting has the structure ```{X:>0Y.ZW}```"
   ]
  },
  {
   "cell_type": "markdown",
   "id": "c4bade72",
   "metadata": {},
   "source": [
    "```X``` refers to the variable.\n",
    "\n",
    "```>``` refers to alignment.\n",
    "- ```<``` is left justified\n",
    "- ```>``` is right justified \n",
    "- ```^``` is centre justified\n",
    "\n",
    "```0``` is used to pad the spaces, and other characters can be used.\n",
    "\n",
    "```Y``` is the total number of characters.\n",
    "\n",
    "```Z``` is the number of decimal places.\n",
    "\n",
    "```W``` refers to the type of variable.\n",
    "- ```f``` refers to floats\n",
    "- ```s``` refers to strings\n",
    "- ```e``` refers to scientific notation\n",
    "- ```g``` asks Python to figure out the type"
   ]
  },
  {
   "attachments": {},
   "cell_type": "markdown",
   "id": "123456",
   "metadata": {},
   "source": [
    "# 6 Escape sequences"
   ]
  },
  {
   "cell_type": "markdown",
   "id": "b8c3707b",
   "metadata": {},
   "source": [
    "```\\'``` allows for ```'``` to be typed out.\n",
    "\n",
    "```\\\\``` allows for ```\\``` to be typed out.\n",
    "\n",
    "```\\n``` gives a new line.\n",
    "\n",
    "```\\t``` gives a horizontal tab."
   ]
  },
  {
   "cell_type": "markdown",
   "id": "89643b00",
   "metadata": {},
   "source": [
    "## 6.1 Self-documenting f-strings"
   ]
  },
  {
   "cell_type": "code",
   "execution_count": 47,
   "id": "63151481",
   "metadata": {},
   "outputs": [
    {
     "ename": "SyntaxError",
     "evalue": "unterminated string literal (detected at line 1) (523689188.py, line 1)",
     "output_type": "error",
     "traceback": [
      "  \u001b[36mCell\u001b[39m\u001b[36m \u001b[39m\u001b[32mIn[47]\u001b[39m\u001b[32m, line 1\u001b[39m\n\u001b[31m    \u001b[39m\u001b[31mprint('You're twenty years old.')\u001b[39m\n                                   ^\n\u001b[31mSyntaxError\u001b[39m\u001b[31m:\u001b[39m unterminated string literal (detected at line 1)\n"
     ]
    }
   ],
   "source": [
    "print('You're twenty years old.')"
   ]
  },
  {
   "cell_type": "code",
   "execution_count": 48,
   "id": "9e3b65ff",
   "metadata": {},
   "outputs": [
    {
     "name": "stdout",
     "output_type": "stream",
     "text": [
      "You're twenty years old.\n"
     ]
    }
   ],
   "source": [
    "print('You\\'re twenty years old.')"
   ]
  },
  {
   "cell_type": "code",
   "execution_count": 49,
   "id": "7e547991",
   "metadata": {},
   "outputs": [
    {
     "name": "stdout",
     "output_type": "stream",
     "text": [
      "A\\B\\C\n",
      "A\n",
      "B\n",
      "C\n",
      "A\tB\tC\n"
     ]
    }
   ],
   "source": [
    "print(\"A\\\\B\\\\C\")\n",
    "print(\"A\\nB\\nC\")\n",
    "print(\"A\\tB\\tC\")"
   ]
  },
  {
   "cell_type": "code",
   "execution_count": 50,
   "id": "7857cab0",
   "metadata": {},
   "outputs": [
    {
     "name": "stdout",
     "output_type": "stream",
     "text": [
      "x=5 and y=10\n",
      "x=8.400 and y=4.800000\n"
     ]
    }
   ],
   "source": [
    "x, y = 5, 10\n",
    "print(f\"{x=} and {y=}\")\n",
    "x, y = 42/5, 24/5\n",
    "print(f\"{x=:.3f} and {y=:.6f}\") # x is kept to 3 decimal places and y is kept to 6 decimal places"
   ]
  },
  {
   "attachments": {},
   "cell_type": "markdown",
   "id": "123456",
   "metadata": {},
   "source": [
    "# 7 Computers read = from Right to Left!"
   ]
  },
  {
   "cell_type": "markdown",
   "id": "ef1f9211",
   "metadata": {},
   "source": [
    "Python reads ```=``` from right to left."
   ]
  },
  {
   "cell_type": "code",
   "execution_count": 1,
   "id": "182ed70e",
   "metadata": {},
   "outputs": [
    {
     "name": "stdout",
     "output_type": "stream",
     "text": [
      "42\n"
     ]
    }
   ],
   "source": [
    "x = 40\n",
    "y = x + 2\n",
    "print(y)"
   ]
  },
  {
   "cell_type": "markdown",
   "id": "84600226",
   "metadata": {},
   "source": [
    "Which is equivalent to:"
   ]
  },
  {
   "cell_type": "code",
   "execution_count": 2,
   "id": "4caa04d2",
   "metadata": {},
   "outputs": [
    {
     "name": "stdout",
     "output_type": "stream",
     "text": [
      "42\n"
     ]
    }
   ],
   "source": [
    "y = 40 \n",
    "y = y + 2\n",
    "print(y)"
   ]
  },
  {
   "cell_type": "code",
   "execution_count": 4,
   "id": "3dba9d9e",
   "metadata": {},
   "outputs": [
    {
     "name": "stdout",
     "output_type": "stream",
     "text": [
      "2\n",
      "2\n"
     ]
    }
   ],
   "source": [
    "x = 10 \n",
    "y = 40\n",
    "x = y = 2\n",
    "print(x)\n",
    "print(y)"
   ]
  },
  {
   "attachments": {},
   "cell_type": "markdown",
   "id": "123456",
   "metadata": {},
   "source": [
    "# 8 Shorter and Cleaner Code"
   ]
  },
  {
   "cell_type": "code",
   "execution_count": 5,
   "id": "304a697d",
   "metadata": {},
   "outputs": [
    {
     "name": "stdout",
     "output_type": "stream",
     "text": [
      "42\n"
     ]
    }
   ],
   "source": [
    "y = 40\n",
    "y = y + 2\n",
    "print(y)"
   ]
  },
  {
   "cell_type": "code",
   "execution_count": 6,
   "id": "9bd669b2",
   "metadata": {},
   "outputs": [
    {
     "name": "stdout",
     "output_type": "stream",
     "text": [
      "42\n"
     ]
    }
   ],
   "source": [
    "y = 40\n",
    "y += 2\n",
    "print(y)"
   ]
  },
  {
   "cell_type": "code",
   "execution_count": 7,
   "id": "1ffef551",
   "metadata": {},
   "outputs": [
    {
     "name": "stdout",
     "output_type": "stream",
     "text": [
      "80\n"
     ]
    }
   ],
   "source": [
    "y = 40\n",
    "y *= 2\n",
    "print(y)"
   ]
  },
  {
   "cell_type": "markdown",
   "id": "2cb0bf54",
   "metadata": {},
   "source": [
    "This shorthand applies to addition (```+=```), subtraction (```-=```), multiplication (```*=```) and division (```/=```)."
   ]
  },
  {
   "attachments": {},
   "cell_type": "markdown",
   "id": "123456",
   "metadata": {},
   "source": [
    "# 9 Python can be a prima-donna."
   ]
  },
  {
   "attachments": {},
   "cell_type": "markdown",
   "id": "123456",
   "metadata": {},
   "source": [
    "# 10 Best Practices for Scientific Computing"
   ]
  },
  {
   "cell_type": "markdown",
   "id": "4379c6bd",
   "metadata": {},
   "source": [
    "Some best practices as:\n",
    "1. **Write programs for people, not computers.**\n",
    "2. **Optimise software only after it works correctly.**\n",
    "3. **Document design and purpose, not mechanics.**\n",
    "4. **Collaborate with other people.**\n",
    "\n",
    "Try not to aim for perfect code at the start, but instead go for something simple that works first before working to perfect the code."
   ]
  },
  {
   "attachments": {},
   "cell_type": "markdown",
   "id": "123456",
   "metadata": {},
   "source": [
    "# 11 Looking for help"
   ]
  },
  {
   "cell_type": "markdown",
   "id": "9fab68d8",
   "metadata": {},
   "source": [
    "You can get information about Python functions from within Python by using the ```help()``` function."
   ]
  },
  {
   "cell_type": "code",
   "execution_count": 8,
   "id": "5e32b0a4",
   "metadata": {},
   "outputs": [
    {
     "name": "stdout",
     "output_type": "stream",
     "text": [
      "Help on built-in function print in module builtins:\n",
      "\n",
      "print(*args, sep=' ', end='\\n', file=None, flush=False)\n",
      "    Prints the values to a stream, or to sys.stdout by default.\n",
      "\n",
      "    sep\n",
      "      string inserted between values, default a space.\n",
      "    end\n",
      "      string appended after the last value, default a newline.\n",
      "    file\n",
      "      a file-like object (stream); defaults to the current sys.stdout.\n",
      "    flush\n",
      "      whether to forcibly flush the stream.\n",
      "\n"
     ]
    }
   ],
   "source": [
    "help(print)"
   ]
  },
  {
   "attachments": {},
   "cell_type": "markdown",
   "id": "123456",
   "metadata": {},
   "source": [
    "## References"
   ]
  },
  {
   "attachments": {},
   "cell_type": "markdown",
   "id": "123456",
   "metadata": {},
   "source": [
    "## Footnotes"
   ]
  }
 ],
 "metadata": {
  "kernelspec": {
   "display_name": "base",
   "language": "python",
   "name": "python3"
  },
  "language_info": {
   "codemirror_mode": {
    "name": "ipython",
    "version": 3
   },
   "file_extension": ".py",
   "mimetype": "text/x-python",
   "name": "python",
   "nbconvert_exporter": "python",
   "pygments_lexer": "ipython3",
   "version": "3.13.5"
  },
  "toc": {
   "base_numbering": 1,
   "nav_menu": {},
   "number_sections": true,
   "sideBar": true,
   "skip_h1_title": false,
   "title_cell": "Table of Contents",
   "title_sidebar": "Contents",
   "toc_cell": false,
   "toc_position": {},
   "toc_section_display": true,
   "toc_window_display": false
  }
 },
 "nbformat": 4,
 "nbformat_minor": 5
}
