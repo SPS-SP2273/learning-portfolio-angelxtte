{
 "cells": [
  {
   "attachments": {},
   "cell_type": "markdown",
   "id": "123456",
   "metadata": {},
   "source": [
    "<div style=\"text-align:left;font-size:2em\"><span style=\"font-weight:bolder;font-size:1.25em\">SP2273 | Learning Portfolio</span><br><br><span style=\"font-weight:bold;color:darkred\">Storing Data (Need) Exercises</span></div>"
   ]
  },
  {
   "cell_type": "markdown",
   "id": "9e90a9b0",
   "metadata": {},
   "source": [
    "# Exercise 1"
   ]
  },
  {
   "cell_type": "markdown",
   "id": "78646617",
   "metadata": {},
   "source": [
    "1. Two similarities between lists and arrays.\n",
    "\n",
    "Firstly, lists and arrays are ways of storing information, where the information can be accessed via indexing and slicing (although there are differences in the way they index and slice in higher dimensions).\n",
    "\n",
    "Secondly, lists and arrays are both mutable objects, where the elements in the lists and arrays can be changed, unlike something like a tuple, which is immutable.\n",
    "\n",
    "2. Two differences between lists and arrays.\n",
    "\n",
    "Firstly, lists can have elements (i.e. other lists with different number of elements) with different dimensions, while arrays require elements to all have the same dimensions (i.e. all lists with in the array must have the same number of elements).\n",
    "\n",
    "Secondly, lists can contain elements of different object types (i.e. str and int) whereas elements in arrays can only contain elements of a single object type.\n",
    "\n",
    "3. What is a dictionary?\n",
    "\n",
    "A dictionary is a useful way of storing information, where there is a key and its associated value, and a specific value can be accessed via its associated key. Dictionaries use ```{ }```."
   ]
  },
  {
   "cell_type": "markdown",
   "id": "b23012b0",
   "metadata": {},
   "source": [
    "# Exericse 2"
   ]
  },
  {
   "cell_type": "code",
   "execution_count": 8,
   "id": "5d3e059f",
   "metadata": {},
   "outputs": [
    {
     "name": "stdout",
     "output_type": "stream",
     "text": [
      "a1\n",
      "c3\n",
      "e5\n",
      "g7\n",
      "i9\n"
     ]
    }
   ],
   "source": [
    "py_list = [\"a1\", \"b2\", \"c3\", \"d4\", \"e5\", \"f6\", \"g7\", \"h8\", \"i9\", \"j10\"]\n",
    "print(py_list[0])   # Prints 'a1'\n",
    "print(py_list[2])   # Prints 'c3'\n",
    "print(py_list[4])   # Prints 'e5'\n",
    "print(py_list[6])   # Prints 'g7'\n",
    "print(py_list[8])   # Prints 'i9'"
   ]
  },
  {
   "cell_type": "markdown",
   "id": "e399b014",
   "metadata": {},
   "source": [
    "# Exercise 3"
   ]
  },
  {
   "cell_type": "code",
   "execution_count": 5,
   "id": "7368f5c1",
   "metadata": {},
   "outputs": [
    {
     "name": "stdout",
     "output_type": "stream",
     "text": [
      "Boron\n",
      "Carbon\n"
     ]
    }
   ],
   "source": [
    "elements = ['Hydrogen', 'Helium', 'Lithium', 'Beryllium', 'Boron', 'Carbon', 'Nitrogen', 'Oxygen', 'Fluorine', 'Neon']\n",
    "\n",
    "# Accessing and printing the element at index 4 using forward indexing\n",
    "print(elements[4])\n",
    "\n",
    "# Accessing and printing the element at index 4 from the end of the list using reverse indexing\n",
    "# print(elements[4:3:-1][0])\n",
    "print(elements[-5])"
   ]
  },
  {
   "cell_type": "markdown",
   "id": "2dbb8dfa",
   "metadata": {},
   "source": [
    "# Exercise 4"
   ]
  },
  {
   "cell_type": "code",
   "execution_count": 10,
   "id": "1cbc4066",
   "metadata": {},
   "outputs": [
    {
     "name": "stdout",
     "output_type": "stream",
     "text": [
      "The number of 1's is 9\n"
     ]
    }
   ],
   "source": [
    "import numpy as np\n",
    "\n",
    "numbers=[45, 60, 1, 30, 96, 1, 96, 57, 16, 1,\n",
    "        99, 62, 86, 43, 42, 60, 59, 1, 1, 35,\n",
    "        83, 47, 34, 28, 68, 23, 22, 92, 1, 79,\n",
    "        1, 29, 94, 72, 46, 47, 1, 74, 32, 20,\n",
    "        8, 37, 35, 1, 89, 29, 86, 19, 43, 61] \n",
    "\n",
    "numbers_array = np.array(numbers)\n",
    "mask = (numbers_array == 1)\n",
    "print(f\"The number of 1's is {sum(mask)}\")"
   ]
  },
  {
   "cell_type": "markdown",
   "id": "f136f842",
   "metadata": {},
   "source": [
    "# Exercise 5"
   ]
  },
  {
   "cell_type": "code",
   "execution_count": 20,
   "id": "8120dc37",
   "metadata": {},
   "outputs": [
    {
     "name": "stdout",
     "output_type": "stream",
     "text": [
      "38.5\n",
      "302.5\n",
      "32.41990129534635\n",
      "326.0893282522444\n",
      "0.9871796626270701\n"
     ]
    },
    {
     "data": {
      "text/plain": [
       "array([[1.        , 0.98717966],\n",
       "       [0.98717966, 1.        ]])"
      ]
     },
     "execution_count": 20,
     "metadata": {},
     "output_type": "execute_result"
    }
   ],
   "source": [
    "x_1 = [1, 4, 9, 16, 25, 36, 49, 64, 81, 100]\n",
    "x_2 = [1, 8, 27, 64, 125, 216, 343, 512, 729, 1000]\n",
    "\n",
    "x_1_array = np.array(x_1)\n",
    "x_2_array = np.array(x_2)\n",
    "\n",
    "x_1_array_mean = np.mean(x_1_array)\n",
    "x_2_array_mean = np.mean(x_2_array)\n",
    "print(x_1_array_mean)\n",
    "print(x_2_array_mean)\n",
    "\n",
    "x_1_array_std = np.std(x_1_array)\n",
    "x_2_array_std = np.std(x_2_array)\n",
    "print(x_1_array_std)\n",
    "print(x_2_array_std)\n",
    "\n",
    "numerator = (len(x_1_array) * sum(x_1_array * x_2_array) - (sum(x_1_array) * sum(x_2)))\n",
    "denominator_1 = len(x_1_array) * sum(x_1_array ** 2) - (sum(x_1_array) ** 2)\n",
    "denominator_2 = len(x_2_array) * sum(x_2_array ** 2) - (sum(x_2_array) ** 2)\n",
    "denominator = np.sqrt(denominator_1 * denominator_2)\n",
    "pearson_correlation_coefficient = numerator / denominator\n",
    "print(pearson_correlation_coefficient)\n",
    "\n",
    "np.corrcoef(x_1_array, x_2_array)"
   ]
  }
 ],
 "metadata": {
  "kernelspec": {
   "display_name": "base",
   "language": "python",
   "name": "python3"
  },
  "language_info": {
   "codemirror_mode": {
    "name": "ipython",
    "version": 3
   },
   "file_extension": ".py",
   "mimetype": "text/x-python",
   "name": "python",
   "nbconvert_exporter": "python",
   "pygments_lexer": "ipython3",
   "version": "3.13.5"
  },
  "toc": {
   "base_numbering": 1,
   "nav_menu": {},
   "number_sections": true,
   "sideBar": true,
   "skip_h1_title": false,
   "title_cell": "Table of Contents",
   "title_sidebar": "Contents",
   "toc_cell": false,
   "toc_position": {},
   "toc_section_display": true,
   "toc_window_display": false
  }
 },
 "nbformat": 4,
 "nbformat_minor": 5
}
