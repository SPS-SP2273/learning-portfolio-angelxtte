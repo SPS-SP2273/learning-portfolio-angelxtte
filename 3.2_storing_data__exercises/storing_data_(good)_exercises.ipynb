{
 "cells": [
  {
   "attachments": {},
   "cell_type": "markdown",
   "id": "123456",
   "metadata": {},
   "source": [
    "<div style=\"text-align:left;font-size:2em\"><span style=\"font-weight:bolder;font-size:1.25em\">SP2273 | Learning Portfolio</span><br><br><span style=\"font-weight:bold;color:darkred\">Storing Data (Good) Exercises</span></div>"
   ]
  },
  {
   "cell_type": "markdown",
   "id": "e63486ed",
   "metadata": {},
   "source": [
    "# Exercise 1"
   ]
  },
  {
   "cell_type": "markdown",
   "id": "58035998",
   "metadata": {},
   "source": [
    "|Term|Brief Description|\n",
    "|:----|:---:|\n",
    "|Subsetting|Selecting an object or objects from a list or array|\n",
    "|Indexing|Selecting a specific object from a list or array using its position in it|\n",
    "|Slicing|Selecting a range of objects from a list or array using its position in it|\n",
    "|Masking|Filtering the elements in an array using conditions to return an array corresponding to True or False|"
   ]
  },
  {
   "cell_type": "markdown",
   "id": "81e743c1",
   "metadata": {},
   "source": [
    "# Exercise 2"
   ]
  },
  {
   "cell_type": "code",
   "execution_count": 8,
   "id": "a69bd450",
   "metadata": {},
   "outputs": [
    {
     "name": "stdout",
     "output_type": "stream",
     "text": [
      "['A' 'C' 'E' 'G' 'I']\n"
     ]
    }
   ],
   "source": [
    "import numpy as np\n",
    "np_array_2d = np.array([[1, \"A\"], [3, \"C\"], [2, \"B\"], [4, \"D\"],\n",
    "                        [5, \"E\"], [7, \"G\"], [6, \"F\"], [8, \"H\"],\n",
    "                        [10, \"J\"], [9, \"I\"]])\n",
    "\n",
    "numbers = np_array_2d[:, 0]\n",
    "# .astype() coverts all the elements within the array into the specified type (i.e. int)\n",
    "integers = numbers.astype(int) \n",
    "mask = (integers % 2) != 0\n",
    "odd_numbers = np_array_2d[mask]\n",
    "letters = odd_numbers[:, 1]\n",
    "print(letters)\n"
   ]
  },
  {
   "cell_type": "markdown",
   "id": "d0878932",
   "metadata": {},
   "source": [
    "# Exercise 3"
   ]
  },
  {
   "cell_type": "code",
   "execution_count": 29,
   "id": "18065baa",
   "metadata": {},
   "outputs": [
    {
     "name": "stdout",
     "output_type": "stream",
     "text": [
      "[[ 1  0  1 -1 -1]\n",
      " [ 1 -1  1 -1 -1]\n",
      " [ 1 -1 -1  1 -1]\n",
      " [-1  1  1 -1 -1]\n",
      " [ 1 -1  1 -1  1]]\n"
     ]
    }
   ],
   "source": [
    "array_2d = [[66, 50, 57, -1, -1],\n",
    "[92, -1, 88, -1, -1],\n",
    "[75, -1, -1, 76, -1],\n",
    "[-1, 51, 87, -1, -1],\n",
    "[71, -1, 67, -1, 69]]\n",
    "\n",
    "np_array_2d = np.array(array_2d)\n",
    "mask_1 = np_array_2d < 50\n",
    "mask_2 = np_array_2d > 50 \n",
    "\n",
    "\n",
    "final_array = (np_array_2d * 0) - mask_1 + mask_2\n",
    "print(final_array)"
   ]
  }
 ],
 "metadata": {
  "kernelspec": {
   "display_name": "base",
   "language": "python",
   "name": "python3"
  },
  "language_info": {
   "codemirror_mode": {
    "name": "ipython",
    "version": 3
   },
   "file_extension": ".py",
   "mimetype": "text/x-python",
   "name": "python",
   "nbconvert_exporter": "python",
   "pygments_lexer": "ipython3",
   "version": "3.13.5"
  },
  "toc": {
   "base_numbering": 1,
   "nav_menu": {},
   "number_sections": true,
   "sideBar": true,
   "skip_h1_title": false,
   "title_cell": "Table of Contents",
   "title_sidebar": "Contents",
   "toc_cell": false,
   "toc_position": {},
   "toc_section_display": true,
   "toc_window_display": false
  }
 },
 "nbformat": 4,
 "nbformat_minor": 5
}
