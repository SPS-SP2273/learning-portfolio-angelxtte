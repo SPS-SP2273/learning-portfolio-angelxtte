{
 "cells": [
  {
   "attachments": {},
   "cell_type": "markdown",
   "id": "123456",
   "metadata": {},
   "source": [
    "<div style=\"text-align:left;font-size:2em\"><span style=\"font-weight:bolder;font-size:1.25em\">SP2273 | Learning Portfolio</span><br><br><span style=\"font-weight:bold;color:darkred\">Functions (Need)</span></div>"
   ]
  },
  {
   "attachments": {},
   "cell_type": "markdown",
   "id": "123456",
   "metadata": {},
   "source": [
    "# What to expect in this chapter"
   ]
  },
  {
   "attachments": {},
   "cell_type": "markdown",
   "id": "123456",
   "metadata": {},
   "source": [
    "# 1 User-defined functions"
   ]
  },
  {
   "attachments": {},
   "cell_type": "markdown",
   "id": "123456",
   "metadata": {},
   "source": [
    "## 1.1 Named Functions"
   ]
  },
  {
   "attachments": {},
   "cell_type": "markdown",
   "id": "123456",
   "metadata": {},
   "source": [
    "### Named functions that return"
   ]
  },
  {
   "cell_type": "markdown",
   "id": "dbb206da",
   "metadata": {},
   "source": [
    "We can define a function using ```def```:"
   ]
  },
  {
   "cell_type": "code",
   "execution_count": 1,
   "id": "123456",
   "metadata": {},
   "outputs": [],
   "source": [
    "def greeting(name):\n",
    "    if name == \"Batman\":\n",
    "        return \"Hello Batman! So, nice to meet you!\"\n",
    "    else: \n",
    "        return f\"Hello {name}\""
   ]
  },
  {
   "cell_type": "markdown",
   "id": "958d2482",
   "metadata": {},
   "source": [
    "The function's name is ```greeting``` and it accepts a single argument called ```name```:"
   ]
  },
  {
   "cell_type": "code",
   "execution_count": 3,
   "id": "5ebe8400",
   "metadata": {},
   "outputs": [
    {
     "data": {
      "text/plain": [
       "'Hello Super Man'"
      ]
     },
     "execution_count": 3,
     "metadata": {},
     "output_type": "execute_result"
    }
   ],
   "source": [
    "greeting(\"Super Man\")"
   ]
  },
  {
   "cell_type": "markdown",
   "id": "60ac7e00",
   "metadata": {},
   "source": [
    "```return``` is used to jump out of the function with the return value, which can be used directly or assigned to a variable:"
   ]
  },
  {
   "cell_type": "code",
   "execution_count": 4,
   "id": "58dcbf54",
   "metadata": {},
   "outputs": [
    {
     "name": "stdout",
     "output_type": "stream",
     "text": [
      "Hello Super Man\n"
     ]
    }
   ],
   "source": [
    "greet = greeting(name = \"Super Man\")\n",
    "print(greet)"
   ]
  },
  {
   "cell_type": "markdown",
   "id": "859bac36",
   "metadata": {},
   "source": [
    "```return``` can be used to return almost anything:"
   ]
  },
  {
   "cell_type": "code",
   "execution_count": 7,
   "id": "e2845b2c",
   "metadata": {},
   "outputs": [
    {
     "name": "stdout",
     "output_type": "stream",
     "text": [
      "minimum: 5, maximum: 1, mean: 3.0\n"
     ]
    }
   ],
   "source": [
    "import numpy as np\n",
    "def basic_stats(numbers):\n",
    "    np_numbers = np.array(numbers)\n",
    "    my_min = np_numbers.min()\n",
    "    my_max = np_numbers.max()\n",
    "    my_mean = np_numbers.mean()\n",
    "    return my_max, my_min, my_mean\n",
    "\n",
    "list_min, list_max, list_mean = basic_stats([1, 2, 3, 4, 5])\n",
    "print(f\"minimum: {list_min}, maximum: {list_max}, mean: {list_mean}\")"
   ]
  },
  {
   "attachments": {},
   "cell_type": "markdown",
   "id": "123456",
   "metadata": {},
   "source": [
    "### Named functions that don’t return"
   ]
  },
  {
   "cell_type": "markdown",
   "id": "123456",
   "metadata": {},
   "source": [
    "A function doesn't have to return anything. For example, ```print()``` does not return a value but still does something\n"
   ]
  },
  {
   "attachments": {},
   "cell_type": "markdown",
   "id": "123456",
   "metadata": {},
   "source": [
    "## 1.2 Anonymous functions"
   ]
  },
  {
   "cell_type": "markdown",
   "id": "413ad749",
   "metadata": {},
   "source": [
    "Anonymous functions, called lambda functions, are suitable for short blocks of code:"
   ]
  },
  {
   "cell_type": "code",
   "execution_count": 8,
   "id": "fea6e629",
   "metadata": {},
   "outputs": [
    {
     "data": {
      "text/plain": [
       "'Hello Super Man'"
      ]
     },
     "execution_count": 8,
     "metadata": {},
     "output_type": "execute_result"
    }
   ],
   "source": [
    "my_short_function = lambda name: f\"Hello {name}\"\n",
    "my_short_function(name = \"Super Man\")"
   ]
  },
  {
   "cell_type": "markdown",
   "id": "e5b8fe77",
   "metadata": {},
   "source": [
    "The above example makes use of a name already, but there are ways to use lambda functions anonymously:"
   ]
  },
  {
   "cell_type": "code",
   "execution_count": 10,
   "id": "d8c78192",
   "metadata": {},
   "outputs": [
    {
     "data": {
      "text/plain": [
       "[[0, 9, -19],\n",
       " [1, 8, -18],\n",
       " [2, 7, -17],\n",
       " [3, 6, -16],\n",
       " [4, 5, -15],\n",
       " [5, 4, -14],\n",
       " [6, 3, -13],\n",
       " [7, 2, -12],\n",
       " [8, 1, -11],\n",
       " [9, 0, -10]]"
      ]
     },
     "execution_count": 10,
     "metadata": {},
     "output_type": "execute_result"
    }
   ],
   "source": [
    "numbers = [[9, 0, -10],\n",
    "          [8, 1, -11],\n",
    "          [7, 2, -12],\n",
    "          [6, 3, -13],\n",
    "          [5, 4, -14],\n",
    "          [4, 5, -15],\n",
    "          [3, 6, -16],\n",
    "          [2, 7, -17],\n",
    "          [1, 8, -18],\n",
    "          [0, 9, -19]]\n",
    "sorted(numbers)"
   ]
  },
  {
   "cell_type": "markdown",
   "id": "c87ee5a7",
   "metadata": {},
   "source": [
    "Now, sorting the list based on the second element:"
   ]
  },
  {
   "cell_type": "code",
   "execution_count": 11,
   "id": "b8e7da53",
   "metadata": {},
   "outputs": [
    {
     "data": {
      "text/plain": [
       "[[9, 0, -10],\n",
       " [8, 1, -11],\n",
       " [7, 2, -12],\n",
       " [6, 3, -13],\n",
       " [5, 4, -14],\n",
       " [4, 5, -15],\n",
       " [3, 6, -16],\n",
       " [2, 7, -17],\n",
       " [1, 8, -18],\n",
       " [0, 9, -19]]"
      ]
     },
     "execution_count": 11,
     "metadata": {},
     "output_type": "execute_result"
    }
   ],
   "source": [
    "sorted(numbers, key = lambda x: x[1])"
   ]
  },
  {
   "cell_type": "markdown",
   "id": "d50052a9",
   "metadata": {},
   "source": [
    "Now, sorting the list based on the sum of the elements:"
   ]
  },
  {
   "cell_type": "code",
   "execution_count": 12,
   "id": "b4bcb2cf",
   "metadata": {},
   "outputs": [
    {
     "data": {
      "text/plain": [
       "[[0, 9, -19],\n",
       " [1, 8, -18],\n",
       " [2, 7, -17],\n",
       " [3, 6, -16],\n",
       " [4, 5, -15],\n",
       " [5, 4, -14],\n",
       " [6, 3, -13],\n",
       " [7, 2, -12],\n",
       " [8, 1, -11],\n",
       " [9, 0, -10]]"
      ]
     },
     "execution_count": 12,
     "metadata": {},
     "output_type": "execute_result"
    }
   ],
   "source": [
    "sorted(numbers, key = lambda x: sum(x))"
   ]
  },
  {
   "cell_type": "markdown",
   "id": "81cb0a72",
   "metadata": {},
   "source": [
    "With ```sorted()```, the ```key``` argument accepts any function that returns a value that can be compared."
   ]
  },
  {
   "attachments": {},
   "cell_type": "markdown",
   "id": "123456",
   "metadata": {},
   "source": [
    "## 1.3 Optional arguments"
   ]
  },
  {
   "cell_type": "code",
   "execution_count": 16,
   "id": "adca78e5",
   "metadata": {},
   "outputs": [],
   "source": [
    "def greeting(name = \"no one\"):\n",
    "    if name == \"Batman\":\n",
    "        return \"Hello Batman! So, nice to meet you!\"\n",
    "    else: \n",
    "        return f\"Hello {name}!\""
   ]
  },
  {
   "cell_type": "code",
   "execution_count": 18,
   "id": "b97d4c66",
   "metadata": {},
   "outputs": [
    {
     "data": {
      "text/plain": [
       "'Hello no one!'"
      ]
     },
     "execution_count": 18,
     "metadata": {},
     "output_type": "execute_result"
    }
   ],
   "source": [
    "greeting()"
   ]
  },
  {
   "cell_type": "code",
   "execution_count": 19,
   "id": "f20cbcd3",
   "metadata": {},
   "outputs": [
    {
     "name": "stdout",
     "output_type": "stream",
     "text": [
      "\u001b[31mSignature:\u001b[39m print(*args, sep=\u001b[33m' '\u001b[39m, end=\u001b[33m'\\n'\u001b[39m, file=\u001b[38;5;28;01mNone\u001b[39;00m, flush=\u001b[38;5;28;01mFalse\u001b[39;00m)\n",
      "\u001b[31mDocstring:\u001b[39m\n",
      "Prints the values to a stream, or to sys.stdout by default.\n",
      "\n",
      "sep\n",
      "  string inserted between values, default a space.\n",
      "end\n",
      "  string appended after the last value, default a newline.\n",
      "file\n",
      "  a file-like object (stream); defaults to the current sys.stdout.\n",
      "flush\n",
      "  whether to forcibly flush the stream.\n",
      "\u001b[31mType:\u001b[39m      builtin_function_or_method"
     ]
    }
   ],
   "source": [
    "?print"
   ]
  },
  {
   "cell_type": "markdown",
   "id": "56bef5a0",
   "metadata": {},
   "source": [
    "```print()``` accepts other arguments that are optional with the default values, such as ```sep```."
   ]
  },
  {
   "attachments": {},
   "cell_type": "markdown",
   "id": "123456",
   "metadata": {},
   "source": [
    "## 1.4 The importance of functions?"
   ]
  },
  {
   "attachments": {},
   "cell_type": "markdown",
   "id": "123456",
   "metadata": {},
   "source": [
    "### An argument for functions"
   ]
  },
  {
   "cell_type": "markdown",
   "id": "123456",
   "metadata": {},
   "source": [
    "Functions are helpful because:\n",
    "\n",
    "1. **Abstraction of details**: Functions help to breakdown complicated solutions into simpler chunks that become easier to deal with than all at once.\n",
    "\n",
    "2. **Reusability of Code**: The block of code in a function can easily be reused instead of copying and pasting at different places.\n",
    "\n",
    "3. **Maintainability of Code**: It is easier to make changes because by changing the function definition, this change is applied everywhere else where the function is used."
   ]
  },
  {
   "attachments": {},
   "cell_type": "markdown",
   "id": "123456",
   "metadata": {},
   "source": [
    "### A word of caution"
   ]
  },
  {
   "cell_type": "markdown",
   "id": "123456",
   "metadata": {},
   "source": [
    "Be careful not to abuse the use of functions, like making it do too many things or having too many arguments.\n",
    "\n",
    "Overusing functions make also make code difficult to read and increase the amount of effort to run the code."
   ]
  }
 ],
 "metadata": {
  "kernelspec": {
   "display_name": "base",
   "language": "python",
   "name": "python3"
  },
  "language_info": {
   "codemirror_mode": {
    "name": "ipython",
    "version": 3
   },
   "file_extension": ".py",
   "mimetype": "text/x-python",
   "name": "python",
   "nbconvert_exporter": "python",
   "pygments_lexer": "ipython3",
   "version": "3.13.5"
  },
  "toc": {
   "base_numbering": 1,
   "nav_menu": {},
   "number_sections": true,
   "sideBar": true,
   "skip_h1_title": false,
   "title_cell": "Table of Contents",
   "title_sidebar": "Contents",
   "toc_cell": false,
   "toc_position": {},
   "toc_section_display": true,
   "toc_window_display": false
  }
 },
 "nbformat": 4,
 "nbformat_minor": 5
}
