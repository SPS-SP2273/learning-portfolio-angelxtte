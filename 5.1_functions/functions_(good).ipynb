{
 "cells": [
  {
   "attachments": {},
   "cell_type": "markdown",
   "id": "123456",
   "metadata": {},
   "source": [
    "<div style=\"text-align:left;font-size:2em\"><span style=\"font-weight:bolder;font-size:1.25em\">SP2273 | Learning Portfolio</span><br><br><span style=\"font-weight:bold;color:darkred\">Functions (Good)</span></div>"
   ]
  },
  {
   "attachments": {},
   "cell_type": "markdown",
   "id": "123456",
   "metadata": {},
   "source": [
    "# What to expect in this chapter"
   ]
  },
  {
   "attachments": {},
   "cell_type": "markdown",
   "id": "123456",
   "metadata": {},
   "source": [
    "# 1 Checks, balances, and contingencies"
   ]
  },
  {
   "attachments": {},
   "cell_type": "markdown",
   "id": "123456",
   "metadata": {},
   "source": [
    "## 1.1 assert"
   ]
  },
  {
   "cell_type": "markdown",
   "id": "37ab0a8b",
   "metadata": {},
   "source": [
    "```assert``` is a command that can check a condition and halt any execution is necessary, and can also print a message as an option."
   ]
  },
  {
   "cell_type": "code",
   "execution_count": 2,
   "id": "47127936",
   "metadata": {},
   "outputs": [
    {
     "ename": "AssertionError",
     "evalue": "x is becoming negative!",
     "output_type": "error",
     "traceback": [
      "\u001b[31m---------------------------------------------------------------------------\u001b[39m",
      "\u001b[31mAssertionError\u001b[39m                            Traceback (most recent call last)",
      "\u001b[36mCell\u001b[39m\u001b[36m \u001b[39m\u001b[32mIn[2]\u001b[39m\u001b[32m, line 6\u001b[39m\n\u001b[32m      4\u001b[39m \u001b[38;5;28;01massert\u001b[39;00m x >= \u001b[32m10\u001b[39m, \u001b[33m\"\u001b[39m\u001b[33mx is becoming negative!\u001b[39m\u001b[33m\"\u001b[39m \u001b[38;5;66;03m# Works perfectly\u001b[39;00m\n\u001b[32m      5\u001b[39m x = -\u001b[32m1\u001b[39m \n\u001b[32m----> \u001b[39m\u001b[32m6\u001b[39m \u001b[38;5;28;01massert\u001b[39;00m x >= \u001b[32m10\u001b[39m, \u001b[33m\"\u001b[39m\u001b[33mx is becoming negative!\u001b[39m\u001b[33m\"\u001b[39m \u001b[38;5;66;03m# Throws an error and stops\u001b[39;00m\n",
      "\u001b[31mAssertionError\u001b[39m: x is becoming negative!"
     ]
    }
   ],
   "source": [
    "# Basic Syntax\n",
    "# assert condition-to-check, message\n",
    "x = 10\n",
    "assert x >= 10, \"x is becoming negative!\" # Works perfectly\n",
    "x = -1 \n",
    "assert x >= 10, \"x is becoming negative!\" # Throws an error and stops"
   ]
  },
  {
   "attachments": {},
   "cell_type": "markdown",
   "id": "123456",
   "metadata": {},
   "source": [
    "## 1.2 try-except"
   ]
  },
  {
   "cell_type": "markdown",
   "id": "d4dde0de",
   "metadata": {},
   "source": [
    "When things go wrong, this is called an exception. For example, division by zero will raise a ```ZeroDivisionError```. Using ```try``` and ```except``` allows for ease of handling of situations where errors are raised:"
   ]
  },
  {
   "cell_type": "code",
   "execution_count": 5,
   "id": "d3fb322b",
   "metadata": {},
   "outputs": [
    {
     "name": "stdout",
     "output_type": "stream",
     "text": [
      "Oh! I cannot square r!\n"
     ]
    }
   ],
   "source": [
    "try:\n",
    "    number = input(\"Give me a number and I will calculate its square.\")\n",
    "    square = int(number) ** 2\n",
    "    print(f\"The square of {number} is {square}!\")\n",
    "except:\n",
    "    print(f\"Oh! I cannot square {number}!\")"
   ]
  },
  {
   "cell_type": "markdown",
   "id": "f552e48d",
   "metadata": {},
   "source": [
    "Any part of the code that could potential lead to an error being raised is in the ```try``` block, and if something does go wrong, Python will ignore the error and run the code in the ```except``` block."
   ]
  },
  {
   "attachments": {},
   "cell_type": "markdown",
   "id": "123456",
   "metadata": {},
   "source": [
    "## 1.3 A simple suggestion"
   ]
  },
  {
   "cell_type": "markdown",
   "id": "cd3bce56",
   "metadata": {},
   "source": [
    "```print()``` statements within your code can be used to signal that certain milestones have be finished within the code."
   ]
  },
  {
   "attachments": {},
   "cell_type": "markdown",
   "id": "123456",
   "metadata": {},
   "source": [
    "# 2 Some loose ends"
   ]
  },
  {
   "attachments": {},
   "cell_type": "markdown",
   "id": "123456",
   "metadata": {},
   "source": [
    "## 2.1 Positional, keyword and default arguments"
   ]
  },
  {
   "cell_type": "markdown",
   "id": "4728b516",
   "metadata": {},
   "source": [
    "There are three ways to pass a value to an argument: positional, keyword or default:"
   ]
  },
  {
   "cell_type": "code",
   "execution_count": 6,
   "id": "da05997d",
   "metadata": {},
   "outputs": [],
   "source": [
    "def side_by_side(a, b, c = 42):\n",
    "    return f'{a: 2d}|{b: 2d}|{c: 2d}'"
   ]
  },
  {
   "cell_type": "markdown",
   "id": "f47950e6",
   "metadata": {},
   "source": [
    "Positional:"
   ]
  },
  {
   "cell_type": "code",
   "execution_count": 7,
   "id": "29f950d9",
   "metadata": {},
   "outputs": [
    {
     "data": {
      "text/plain": [
       "' 1| 2| 3'"
      ]
     },
     "execution_count": 7,
     "metadata": {},
     "output_type": "execute_result"
    }
   ],
   "source": [
    "side_by_side(1, 2, 3)\n",
    "# Assigns 1, 2, 3 to a, b, c based on the positions of the argument."
   ]
  },
  {
   "cell_type": "markdown",
   "id": "aa68a138",
   "metadata": {},
   "source": [
    "Keywords:"
   ]
  },
  {
   "cell_type": "code",
   "execution_count": 8,
   "id": "3ba17de0",
   "metadata": {},
   "outputs": [
    {
     "data": {
      "text/plain": [
       "' 2| 1| 3'"
      ]
     },
     "execution_count": 8,
     "metadata": {},
     "output_type": "execute_result"
    }
   ],
   "source": [
    "side_by_side(c = 3, b = 1, a = 2)\n",
    "# Assigns each value to each of a, b, c (order does not matter)"
   ]
  },
  {
   "cell_type": "markdown",
   "id": "16d62076",
   "metadata": {},
   "source": [
    "Default:"
   ]
  },
  {
   "cell_type": "code",
   "execution_count": 9,
   "id": "9724d024",
   "metadata": {},
   "outputs": [
    {
     "data": {
      "text/plain": [
       "' 1| 2| 42'"
      ]
     },
     "execution_count": 9,
     "metadata": {},
     "output_type": "execute_result"
    }
   ],
   "source": [
    "side_by_side(1, b = 2)\n",
    "# Since c is optional, it does not need to be specified)"
   ]
  },
  {
   "cell_type": "markdown",
   "id": "1244a8bd",
   "metadata": {},
   "source": [
    "There is one style that will not work with Python, and that is if there are still any positional arguments following keyword arguments. This is because Python cannot unambiguosly determine the position of the argument."
   ]
  },
  {
   "cell_type": "code",
   "execution_count": 10,
   "id": "b8b23b1b",
   "metadata": {},
   "outputs": [
    {
     "ename": "SyntaxError",
     "evalue": "positional argument follows keyword argument (3317265956.py, line 1)",
     "output_type": "error",
     "traceback": [
      "  \u001b[36mCell\u001b[39m\u001b[36m \u001b[39m\u001b[32mIn[10]\u001b[39m\u001b[32m, line 1\u001b[39m\n\u001b[31m    \u001b[39m\u001b[31mside_by_side(a = 2, 1)\u001b[39m\n                         ^\n\u001b[31mSyntaxError\u001b[39m\u001b[31m:\u001b[39m positional argument follows keyword argument\n"
     ]
    }
   ],
   "source": [
    "side_by_side(a = 2, 1)\n",
    "# Does not work"
   ]
  },
  {
   "attachments": {},
   "cell_type": "markdown",
   "id": "123456",
   "metadata": {},
   "source": [
    "## 2.2 Docstrings"
   ]
  },
  {
   "cell_type": "markdown",
   "id": "a4e34043",
   "metadata": {},
   "source": [
    "Python has a docstring feature that can be used to describe what the function does inside the function itself. This documentation is displayed when asking Python for help info using ```help()```."
   ]
  },
  {
   "cell_type": "code",
   "execution_count": 11,
   "id": "91ddfa8c",
   "metadata": {},
   "outputs": [
    {
     "name": "stdout",
     "output_type": "stream",
     "text": [
      "Help on function side_by_side in module __main__:\n",
      "\n",
      "side_by_side(a, b, c=42)\n",
      "    A test function to demonstrate how\n",
      "    positional, keyword and default arguments\n",
      "    work.\n",
      "\n"
     ]
    }
   ],
   "source": [
    "def side_by_side(a, b, c = 42):\n",
    "    '''\n",
    "    A test function to demonstrate how \n",
    "    positional, keyword and default arguments \n",
    "    work.\n",
    "    '''\n",
    "    return f'{a: 2d}|{b: 2d}|{c: 2d}'\n",
    "\n",
    "help(side_by_side)"
   ]
  },
  {
   "attachments": {},
   "cell_type": "markdown",
   "id": "123456",
   "metadata": {},
   "source": [
    "## 2.3 Function are first-class citizens"
   ]
  },
  {
   "cell_type": "markdown",
   "id": "f89545be",
   "metadata": {},
   "source": [
    "Functions have the same privileges as variables, and in turn can be passed as an argument to another function."
   ]
  },
  {
   "cell_type": "code",
   "execution_count": 14,
   "id": "4299074a",
   "metadata": {},
   "outputs": [
    {
     "name": "stdout",
     "output_type": "stream",
     "text": [
      "1.0\n",
      "6.123233995736766e-17\n",
      "-1.0\n"
     ]
    }
   ],
   "source": [
    "import numpy as np\n",
    "def my_function(angle, trig_function):\n",
    "        return trig_function(angle)\n",
    "\n",
    "# Let's use the function\n",
    "print(my_function(np.pi/2, np.sin))\n",
    "print(my_function(np.pi/2, np.cos))   \n",
    "print(my_function(np.pi/2, lambda x: np.cos(2*x)))"
   ]
  },
  {
   "cell_type": "markdown",
   "id": "a7fc4caa",
   "metadata": {},
   "source": [
    "When passing a function as an argument, do not include ```()``` since it would then be treating the output of the function as the argument instead."
   ]
  },
  {
   "attachments": {},
   "cell_type": "markdown",
   "id": "123456",
   "metadata": {},
   "source": [
    "## 2.4 More about unpacking"
   ]
  },
  {
   "cell_type": "markdown",
   "id": "78c75559",
   "metadata": {},
   "source": [
    "Unpacking can be used to easily extract information from lists and arrays, and they will be displayed as a tuple:"
   ]
  },
  {
   "cell_type": "code",
   "execution_count": 15,
   "id": "db6a0044",
   "metadata": {},
   "outputs": [
    {
     "data": {
      "text/plain": [
       "(1, 2, 3)"
      ]
     },
     "execution_count": 15,
     "metadata": {},
     "output_type": "execute_result"
    }
   ],
   "source": [
    "x, y, z = [1, 2, 3]\n",
    "x, y, z"
   ]
  },
  {
   "cell_type": "code",
   "execution_count": 16,
   "id": "4ec0b80b",
   "metadata": {},
   "outputs": [
    {
     "data": {
      "text/plain": [
       "(np.int64(1), np.int64(2), np.int64(3))"
      ]
     },
     "execution_count": 16,
     "metadata": {},
     "output_type": "execute_result"
    }
   ],
   "source": [
    "x, y, z = np.array([1, 2, 3])\n",
    "x, y, z"
   ]
  },
  {
   "cell_type": "code",
   "execution_count": 17,
   "id": "7125349b",
   "metadata": {},
   "outputs": [
    {
     "data": {
      "text/plain": [
       "(np.int64(1), [np.int64(2), np.int64(3), np.int64(4)], np.int64(5))"
      ]
     },
     "execution_count": 17,
     "metadata": {},
     "output_type": "execute_result"
    }
   ],
   "source": [
    "x, *y, z = np.array([1, 2, 3, 4, 5])\n",
    "x, y, z\n",
    "# * allows for the middle variable to be flexible, and x and z will be assigned the first and last element in list"
   ]
  },
  {
   "cell_type": "code",
   "execution_count": 19,
   "id": "cdcaa6ee",
   "metadata": {},
   "outputs": [
    {
     "data": {
      "text/plain": [
       "(1, 5)"
      ]
     },
     "execution_count": 19,
     "metadata": {},
     "output_type": "execute_result"
    }
   ],
   "source": [
    "x, *_, y = [1, 2, 3, 4, 5]\n",
    "x, y\n",
    "# _ acts as a throwaway variable that is not used"
   ]
  }
 ],
 "metadata": {
  "kernelspec": {
   "display_name": "base",
   "language": "python",
   "name": "python3"
  },
  "language_info": {
   "codemirror_mode": {
    "name": "ipython",
    "version": 3
   },
   "file_extension": ".py",
   "mimetype": "text/x-python",
   "name": "python",
   "nbconvert_exporter": "python",
   "pygments_lexer": "ipython3",
   "version": "3.13.5"
  },
  "toc": {
   "base_numbering": 1,
   "nav_menu": {},
   "number_sections": true,
   "sideBar": true,
   "skip_h1_title": false,
   "title_cell": "Table of Contents",
   "title_sidebar": "Contents",
   "toc_cell": false,
   "toc_position": {},
   "toc_section_display": true,
   "toc_window_display": false
  }
 },
 "nbformat": 4,
 "nbformat_minor": 5
}
