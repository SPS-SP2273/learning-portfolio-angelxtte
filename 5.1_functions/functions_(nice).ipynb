{
 "cells": [
  {
   "attachments": {},
   "cell_type": "markdown",
   "id": "123456",
   "metadata": {},
   "source": [
    "<div style=\"text-align:left;font-size:2em\"><span style=\"font-weight:bolder;font-size:1.25em\">SP2273 | Learning Portfolio</span><br><br><span style=\"font-weight:bold;color:darkred\">Functions (Nice)</span></div>"
   ]
  },
  {
   "attachments": {},
   "cell_type": "markdown",
   "id": "123456",
   "metadata": {},
   "source": [
    "# 1 Modularise and reuse"
   ]
  },
  {
   "cell_type": "markdown",
   "id": "6778627a",
   "metadata": {},
   "source": [
    "Functions can be used between projects by placing them in a separate file and importing them like standard packages and modules like NumPy."
   ]
  },
  {
   "attachments": {},
   "cell_type": "markdown",
   "id": "123456",
   "metadata": {},
   "source": [
    "# 2 The many ways to pass arguments"
   ]
  },
  {
   "attachments": {},
   "cell_type": "markdown",
   "id": "123456",
   "metadata": {},
   "source": [
    "## 2.1 *args & **kwarg"
   ]
  },
  {
   "attachments": {},
   "cell_type": "markdown",
   "id": "123456",
   "metadata": {},
   "source": [
    "### *args"
   ]
  },
  {
   "cell_type": "markdown",
   "id": "0c0d1c37",
   "metadata": {},
   "source": [
    "```*args``` allows for us to pass multiple arguments through the use of unpacking and dictionaries:"
   ]
  },
  {
   "cell_type": "code",
   "execution_count": 1,
   "id": "123456",
   "metadata": {},
   "outputs": [
    {
     "data": {
      "text/plain": [
       "2"
      ]
     },
     "execution_count": 1,
     "metadata": {},
     "output_type": "execute_result"
    }
   ],
   "source": [
    "def mutliply(x, y):\n",
    "    return x * y\n",
    "\n",
    "numbers = [1 ,2]\n",
    "mutliply(*numbers)"
   ]
  },
  {
   "cell_type": "code",
   "execution_count": null,
   "id": "942fb8b7",
   "metadata": {},
   "outputs": [
    {
     "name": "stdout",
     "output_type": "stream",
     "text": [
      "6\n",
      "[1, 2, 3]\n",
      "120\n"
     ]
    }
   ],
   "source": [
    "def multiply(*args):\n",
    "    result = 1 \n",
    "    for number in args:\n",
    "        result *= number\n",
    "    return result\n",
    "\n",
    "numbers = [1, 2, 3]\n",
    "print(multiply(*numbers)) # Unpacks\n",
    "print(multiply(numbers)) # Still a list\n",
    "print(multiply(1, 2, 3, 4, 5)) "
   ]
  },
  {
   "attachments": {},
   "cell_type": "markdown",
   "id": "123456",
   "metadata": {},
   "source": [
    "### **kwargs"
   ]
  },
  {
   "cell_type": "markdown",
   "id": "b0571e9a",
   "metadata": {},
   "source": [
    "```**kwargs**``` allow for multiply keyword arugments to passed using a dictionary."
   ]
  },
  {
   "cell_type": "code",
   "execution_count": 5,
   "id": "123456",
   "metadata": {},
   "outputs": [
    {
     "data": {
      "text/plain": [
       "6"
      ]
     },
     "execution_count": 5,
     "metadata": {},
     "output_type": "execute_result"
    }
   ],
   "source": [
    "def multiply(x, y, z):\n",
    "    return x * y * z\n",
    "\n",
    "numbers = {\"x\" : 1, \"y\" : 2, \"z\" : 3}\n",
    "multiply(**numbers) # Takes key and value pairs as keyword arguments via unpacking\n"
   ]
  },
  {
   "cell_type": "markdown",
   "id": "d67915e2",
   "metadata": {},
   "source": [
    "Positional arguments and dictionaries can be mixed together too:"
   ]
  },
  {
   "cell_type": "code",
   "execution_count": 6,
   "id": "864b9de8",
   "metadata": {},
   "outputs": [
    {
     "data": {
      "text/plain": [
       "6"
      ]
     },
     "execution_count": 6,
     "metadata": {},
     "output_type": "execute_result"
    }
   ],
   "source": [
    "def multiply(x, y, z):\n",
    "    return x * y * z\n",
    "\n",
    "numbers = {\"y\" : 2, \"z\" : 3}\n",
    "multiply(1, **numbers)"
   ]
  },
  {
   "cell_type": "code",
   "execution_count": 8,
   "id": "8211485e",
   "metadata": {},
   "outputs": [
    {
     "data": {
      "text/plain": [
       "14"
      ]
     },
     "execution_count": 8,
     "metadata": {},
     "output_type": "execute_result"
    }
   ],
   "source": [
    "def add_powers(numbers, power):\n",
    "    result = 0\n",
    "    for number in numbers:\n",
    "        result += number ** power\n",
    "    return result\n",
    "\n",
    "kwargs = {\"numbers\": [1, 2, 3], \"power\": 2}\n",
    "add_powers(**kwargs)"
   ]
  },
  {
   "cell_type": "markdown",
   "id": "d5ffdab7",
   "metadata": {},
   "source": [
    "The function can also be set up to accept any keyword argument:"
   ]
  },
  {
   "cell_type": "code",
   "execution_count": null,
   "id": "3a76cc1d",
   "metadata": {},
   "outputs": [
    {
     "data": {
      "text/plain": [
       "14"
      ]
     },
     "execution_count": 9,
     "metadata": {},
     "output_type": "execute_result"
    }
   ],
   "source": [
    "def add_powers(**kwargs):\n",
    "    numbers = kwargs[\"numbers\"]\n",
    "    power = kwargs[\"power\"]\n",
    "    result = 0\n",
    "    for number in numbers:\n",
    "        result += number ** power\n",
    "    return result\n",
    "\n",
    "add_powers(numbers = [1, 2, 3], power = 2) # Directly using keyword arguments\n",
    "kwargs = {\"numbers\": [1, 2, 3], \"power\": 2} \n",
    "add_powers(**kwargs) # Unpacking the dictionary"
   ]
  },
  {
   "attachments": {},
   "cell_type": "markdown",
   "id": "123456",
   "metadata": {},
   "source": [
    "# 3 Gotchas with passing variables to functions"
   ]
  },
  {
   "attachments": {},
   "cell_type": "markdown",
   "id": "123456",
   "metadata": {},
   "source": [
    "## 3.1 The Problem"
   ]
  },
  {
   "cell_type": "code",
   "execution_count": 11,
   "id": "048cdace",
   "metadata": {},
   "outputs": [
    {
     "name": "stdout",
     "output_type": "stream",
     "text": [
      "BEFORE|\tNumber: 10(id: 140730610988232), Array: [10](id: 2772434824688), List: [10](id: 2772434992384)\n",
      "Doing something!\n",
      "INSIDE|\tNumber: 20(id: 140730610988552), Array: [20](id: 2772434824688), List: [10, 10](id: 2772434992384)\n",
      "AFTER|\tNumber: 10(id: 140730610988232), Array: [20](id: 2772434824688), List: [10, 10](id: 2772434992384)\n"
     ]
    }
   ],
   "source": [
    "import numpy as np\n",
    "def do_something(inside_number, inside_array, inside_list):\n",
    "    print('Doing something!')\n",
    "    inside_number *= 2\n",
    "    inside_array *= 2\n",
    "    inside_list *= 2\n",
    "\n",
    "    print(f\"INSIDE|\\tNumber: {inside_number}(id: {id(inside_number)}), Array: {inside_array}(id: {id(inside_array)}), List: {inside_list}(id: {id(inside_list)})\")\n",
    "\n",
    "outside_number = 10\n",
    "outside_array = np.array([10])\n",
    "outside_list = [10]\n",
    "\n",
    "print(f\"BEFORE|\\tNumber: {outside_number}(id: {id(outside_number)}), Array: {outside_array}(id: {id(outside_array)}), List: {outside_list}(id: {id(outside_list)})\")\n",
    "do_something(outside_number, outside_array, outside_list)\n",
    "print(f\"AFTER|\\tNumber: {outside_number}(id: {id(outside_number)}), Array: {outside_array}(id: {id(outside_array)}), List: {outside_list}(id: {id(outside_list)})\")"
   ]
  },
  {
   "attachments": {},
   "cell_type": "markdown",
   "id": "123456",
   "metadata": {},
   "source": [
    "## 3.2 An Explanation"
   ]
  },
  {
   "cell_type": "markdown",
   "id": "122ef782",
   "metadata": {},
   "source": [
    "For \"immutable\" variables, what happens inside the function does not change the variable outside - this is called passing by value.\n",
    "\n",
    "For \"mutable\" variables, what happens inside the function does change the variable outside - this is called passing by reference."
   ]
  },
  {
   "attachments": {},
   "cell_type": "markdown",
   "id": "123456",
   "metadata": {},
   "source": [
    "# 4 There is more to exceptions"
   ]
  },
  {
   "attachments": {},
   "cell_type": "markdown",
   "id": "123456",
   "metadata": {},
   "source": [
    "## 4.1 A list of exceptions"
   ]
  },
  {
   "cell_type": "markdown",
   "id": "db754e21",
   "metadata": {},
   "source": [
    "A common list of exceptions include:\n",
    "\n",
    "1. AssertionError: Raised when the assert statement fails.\n",
    "\n",
    "2. AttributeError: Raised when the attribute assignment or reference fails.\n",
    "\n",
    "3. IndexError: Raised when the index of a sequence is out of range.\n",
    "\n",
    "4. KeyError: Raised when a key is not found in a dictionary.\n",
    "\n",
    "5. SyntaxError: Raised by the parser when a syntax error is encountered.\n",
    "\n",
    "6. IdentationError: Raised when there is an incorrect indentation.\n",
    "\n",
    "7. TypeError: Raised when a function or operation is applied to an object of an incorrect type.\n",
    "\n",
    "7. ValueError: Raised when a function gets an argument of correct type but improper value.\n",
    "\n",
    "8. ZeroDivisionError: Raised when the second operand of a division or module operation is zero."
   ]
  },
  {
   "attachments": {},
   "cell_type": "markdown",
   "id": "123456",
   "metadata": {},
   "source": [
    "## 4.2 Handling specific exceptions"
   ]
  },
  {
   "cell_type": "code",
   "execution_count": 15,
   "id": "f4ce8eec",
   "metadata": {},
   "outputs": [
    {
     "name": "stdout",
     "output_type": "stream",
     "text": [
      "Oh oh! I cannot square r!\n"
     ]
    }
   ],
   "source": [
    "try:\n",
    "    number=input(\"Give me a number and I will calculate its square.\")\n",
    "    square=int(number)**2  # correct type (str) but wrong value\n",
    "    print(f'The square of {number} is {square}!')\n",
    "except ValueError:\n",
    "    print(f\"Oh oh! I cannot square {number}!\")"
   ]
  },
  {
   "cell_type": "markdown",
   "id": "150bdfb6",
   "metadata": {},
   "source": [
    "The above is a more specific version of the code since it specifies the type of exception."
   ]
  },
  {
   "attachments": {},
   "cell_type": "markdown",
   "id": "123456",
   "metadata": {},
   "source": [
    "## 4.3 try also has an else and finally"
   ]
  },
  {
   "cell_type": "markdown",
   "id": "1cc43447",
   "metadata": {},
   "source": [
    "Similar to that of other loops, ```else``` can be used (without indentation) to run a block of code if everything works smoothly, with ```finally``` always runs at the end regardless of whether an error was raised or not."
   ]
  },
  {
   "cell_type": "code",
   "execution_count": 18,
   "id": "894df104",
   "metadata": {},
   "outputs": [
    {
     "name": "stdout",
     "output_type": "stream",
     "text": [
      "Oh oh! I cannot square y!\n",
      "Okay, looks like everything is done!\n"
     ]
    }
   ],
   "source": [
    "try:\n",
    "    number=input(\"Give me a number and I will calculate its square.\")\n",
    "    square=int(number)**2\n",
    "    print(f'The square of {number} is {square}!')\n",
    "except ValueError:\n",
    "    print(f\"Oh oh! I cannot square {number}!\")\n",
    "else: # else will run the block of code if no error is raised\n",
    "    print('Yeah! Things ran without a problem!')\n",
    "finally:\n",
    "    print('Okay, looks like everything is done!')"
   ]
  },
  {
   "cell_type": "code",
   "execution_count": 19,
   "id": "5c0710be",
   "metadata": {},
   "outputs": [
    {
     "name": "stdout",
     "output_type": "stream",
     "text": [
      "The square of 5 is 25!\n",
      "Yeah! Things ran without a problem!\n",
      "Okay, looks like everything is done!\n"
     ]
    }
   ],
   "source": [
    "try:\n",
    "    number=input(\"Give me a number and I will calculate its square.\")\n",
    "    square=int(number)**2\n",
    "    print(f'The square of {number} is {square}!')\n",
    "except ValueError:\n",
    "    print(f\"Oh oh! I cannot square {number}!\")\n",
    "else: # else will run the block of code if no error is raised\n",
    "    print('Yeah! Things ran without a problem!')\n",
    "finally:\n",
    "    print('Okay, looks like everything is done!')"
   ]
  },
  {
   "attachments": {},
   "cell_type": "markdown",
   "id": "123456",
   "metadata": {},
   "source": [
    "## Footnotes"
   ]
  }
 ],
 "metadata": {
  "kernelspec": {
   "display_name": "base",
   "language": "python",
   "name": "python3"
  },
  "language_info": {
   "codemirror_mode": {
    "name": "ipython",
    "version": 3
   },
   "file_extension": ".py",
   "mimetype": "text/x-python",
   "name": "python",
   "nbconvert_exporter": "python",
   "pygments_lexer": "ipython3",
   "version": "3.13.5"
  },
  "toc": {
   "base_numbering": 1,
   "nav_menu": {},
   "number_sections": true,
   "sideBar": true,
   "skip_h1_title": false,
   "title_cell": "Table of Contents",
   "title_sidebar": "Contents",
   "toc_cell": false,
   "toc_position": {},
   "toc_section_display": true,
   "toc_window_display": false
  }
 },
 "nbformat": 4,
 "nbformat_minor": 5
}
