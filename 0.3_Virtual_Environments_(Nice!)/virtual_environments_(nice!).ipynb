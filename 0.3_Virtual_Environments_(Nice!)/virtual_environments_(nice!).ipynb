{
 "cells": [
  {
   "attachments": {},
   "cell_type": "markdown",
   "id": "123456",
   "metadata": {},
   "source": [
    "<div style=\"text-align:left;font-size:2em\"><span style=\"font-weight:bolder;font-size:1.25em\">SP2273 | Learning Portfolio</span><br><br><span style=\"font-weight:bold;color:darkred\">Virtual Environments (Nice!)</span></div>"
   ]
  },
  {
   "attachments": {},
   "cell_type": "markdown",
   "id": "123456",
   "metadata": {},
   "source": [
    "# What to expect in this chapter"
   ]
  },
  {
   "attachments": {},
   "cell_type": "markdown",
   "id": "123456",
   "metadata": {},
   "source": [
    "# 1 Why Use Virtual Environments?"
   ]
  },
  {
   "cell_type": "markdown",
   "id": "e93fb32b",
   "metadata": {},
   "source": [
    "We use Virtual Environments for 5 key reasons:\n",
    "1. Avoiding cluttering\n",
    "1. To allow for safe testing\n",
    "1. To allow for collabration via sharing of code and environment setup\n",
    "1. Prevent any version conflicts\n",
    "1. To work around legacy code"
   ]
  },
  {
   "attachments": {},
   "cell_type": "markdown",
   "id": "123456",
   "metadata": {},
   "source": [
    "# 2 Working with Environments"
   ]
  },
  {
   "cell_type": "markdown",
   "id": "6fb7ae38",
   "metadata": {},
   "source": [
    "You can create a virtual environment by either manually setting it up:"
   ]
  },
  {
   "cell_type": "code",
   "execution_count": null,
   "id": "d1963a47",
   "metadata": {},
   "outputs": [],
   "source": [
    "conda create --name my_virtual_env -c conda-forge python=3.10.18 scipy=1.9.1 numpy=1.24.4 ipykernel"
   ]
  },
  {
   "cell_type": "markdown",
   "id": "b8139a92",
   "metadata": {},
   "source": [
    "Or you can create a .yaml file and details regarding the environment inside:"
   ]
  },
  {
   "cell_type": "markdown",
   "id": "47b83a92",
   "metadata": {},
   "source": [
    "```yaml\n",
    "name: my_virtual_env\n",
    "channels:\n",
    "- conda-forge\n",
    "- defaults\n",
    "dependencies:\n",
    "- python = 3.10.18\n",
    "- scipy = 1.9.1\n",
    "- numpy = 1.24.4\n",
    "- ipykernel\n",
    "- pip\n",
    "- pip:\n",
    "    - tqdm\n",
    "```"
   ]
  },
  {
   "cell_type": "markdown",
   "id": "a6fae458",
   "metadata": {},
   "source": [
    "And add it to the directory!"
   ]
  },
  {
   "cell_type": "code",
   "execution_count": null,
   "id": "8c4a6f39",
   "metadata": {},
   "outputs": [
    {
     "name": "stdout",
     "output_type": "stream",
     "text": [
      "3 channel Terms of Service accepted\n",
      "Channels:\n",
      " - conda-forge\n",
      " - defaults\n",
      "Platform: win-64\n",
      "Collecting package metadata (repodata.json): done\n",
      "Solving environment: done\n",
      "Installing pip dependencies: - Ran pip subprocess with arguments:\n",
      "['C:\\\\Users\\\\zhe_h\\\\miniconda3\\\\envs\\\\my_virtual_env\\\\python.exe', '-m', 'pip', 'install', '-U', '-r', 'c:\\\\Users\\\\zhe_h\\\\OneDrive\\\\Desktop\\\\learning-portfolio-angelxtte\\\\0.3_Virtual_Environments_(Nice!)\\\\condaenv.gsrybtty.requirements.txt', '--exists-action=b']\n",
      "Pip subprocess output:\n",
      "Collecting tqdm (from -r c:\\Users\\zhe_h\\OneDrive\\Desktop\\learning-portfolio-angelxtte\\0.3_Virtual_Environments_(Nice!)\\condaenv.gsrybtty.requirements.txt (line 1))\n",
      "\n",
      "  Using cached tqdm-4.67.1-py3-none-any.whl.metadata (57 kB)\n",
      "\n",
      "Collecting colorama (from tqdm->-r c:\\Users\\zhe_h\\OneDrive\\Desktop\\learning-portfolio-angelxtte\\0.3_Virtual_Environments_(Nice!)\\condaenv.gsrybtty.requirements.txt (line 1))\n",
      "\n",
      "  Using cached colorama-0.4.6-py2.py3-none-any.whl.metadata (17 kB)\n",
      "\n",
      "Using cached tqdm-4.67.1-py3-none-any.whl (78 kB)\n",
      "\n",
      "Using cached colorama-0.4.6-py2.py3-none-any.whl (25 kB)\n",
      "\n",
      "Installing collected packages: colorama, tqdm\n",
      "\n",
      "\n",
      "   -------------------- ------------------- 1/2 [tqdm]\n",
      "   -------------------- ------------------- 1/2 [tqdm]\n",
      "   ---------------------------------------- 2/2 [tqdm]\n",
      "\n",
      "\n",
      "Successfully installed colorama-0.4.6 tqdm-4.67.1\n",
      "\n",
      "\n",
      "done\n",
      "#\n",
      "# To activate this environment, use\n",
      "#\n",
      "#     $ conda activate my_virtual_env\n",
      "#\n",
      "# To deactivate an active environment, use\n",
      "#\n",
      "#     $ conda deactivate\n",
      "\n",
      "\n",
      "Note: you may need to restart the kernel to use updated packages.\n"
     ]
    }
   ],
   "source": [
    "conda env create --file my_virtual_env.yaml"
   ]
  },
  {
   "cell_type": "markdown",
   "id": "cc366174",
   "metadata": {},
   "source": [
    "Using an updated .yaml file can allow for the updating and changing of the packages in the **current** environment:"
   ]
  },
  {
   "cell_type": "code",
   "execution_count": null,
   "id": "31cce38b",
   "metadata": {},
   "outputs": [
    {
     "name": "stdout",
     "output_type": "stream",
     "text": [
      "3 channel Terms of Service accepted\n",
      "Channels:\n",
      " - conda-forge\n",
      " - defaults\n",
      "Platform: win-64\n",
      "Collecting package metadata (repodata.json): done\n",
      "Solving environment: done\n",
      "Installing pip dependencies: / Ran pip subprocess with arguments:\n",
      "['C:\\\\Users\\\\zhe_h\\\\miniconda3\\\\envs\\\\my_virtual_env\\\\python.exe', '-m', 'pip', 'install', '-U', '-r', 'c:\\\\Users\\\\zhe_h\\\\OneDrive\\\\Desktop\\\\learning-portfolio-angelxtte\\\\0.3_Virtual_Environments_(Nice!)\\\\condaenv.hkhr_z1u.requirements.txt', '--exists-action=b']\n",
      "Pip subprocess output:\n",
      "Requirement already satisfied: tqdm in c:\\users\\zhe_h\\miniconda3\\envs\\my_virtual_env\\lib\\site-packages (from -r c:\\Users\\zhe_h\\OneDrive\\Desktop\\learning-portfolio-angelxtte\\0.3_Virtual_Environments_(Nice!)\\condaenv.hkhr_z1u.requirements.txt (line 1)) (4.67.1)\n",
      "\n",
      "Requirement already satisfied: colorama in c:\\users\\zhe_h\\miniconda3\\envs\\my_virtual_env\\lib\\site-packages (from tqdm->-r c:\\Users\\zhe_h\\OneDrive\\Desktop\\learning-portfolio-angelxtte\\0.3_Virtual_Environments_(Nice!)\\condaenv.hkhr_z1u.requirements.txt (line 1)) (0.4.6)\n",
      "\n",
      "\n",
      "done\n",
      "#\n",
      "# To activate this environment, use\n",
      "#\n",
      "#     $ conda activate my_virtual_env\n",
      "#\n",
      "# To deactivate an active environment, use\n",
      "#\n",
      "#     $ conda deactivate\n",
      "\n",
      "\n",
      "Note: you may need to restart the kernel to use updated packages.\n"
     ]
    }
   ],
   "source": [
    "conda env update -f my_virtual_env.yaml --prune"
   ]
  },
  {
   "cell_type": "markdown",
   "id": "94af12dc",
   "metadata": {},
   "source": [
    "To activate the environment, it must be done from **the terminal**:"
   ]
  },
  {
   "cell_type": "code",
   "execution_count": null,
   "id": "4c1edd9a",
   "metadata": {},
   "outputs": [],
   "source": [
    "conda activate"
   ]
  },
  {
   "cell_type": "markdown",
   "id": "165dabcc",
   "metadata": {},
   "source": [
    "To deactivate the environment and return to the base environment:"
   ]
  },
  {
   "cell_type": "code",
   "execution_count": null,
   "id": "4e97dbe7",
   "metadata": {},
   "outputs": [],
   "source": [
    "conda deactivate"
   ]
  },
  {
   "cell_type": "markdown",
   "id": "f1f2a0ac",
   "metadata": {},
   "source": [
    "To get a list of all the environments in the system:"
   ]
  },
  {
   "cell_type": "code",
   "execution_count": null,
   "id": "0dff41ac",
   "metadata": {},
   "outputs": [
    {
     "name": "stdout",
     "output_type": "stream",
     "text": [
      "\n",
      "# conda environments:\n",
      "#\n",
      "base                   C:\\Users\\zhe_h\\miniconda3\n",
      "my_virtual_env       * C:\\Users\\zhe_h\\miniconda3\\envs\\my_virtual_env\n",
      "zhehong                C:\\Users\\zhe_h\\miniconda3\\envs\\zhehong\n",
      "\n",
      "\n",
      "Note: you may need to restart the kernel to use updated packages.\n"
     ]
    }
   ],
   "source": [
    "conda env list"
   ]
  },
  {
   "cell_type": "markdown",
   "id": "9566a442",
   "metadata": {},
   "source": [
    "To change the virtual environment directly here, change the kernel to that of the virtual environment, but make sure that ipykernel is installed beforehand."
   ]
  },
  {
   "cell_type": "markdown",
   "id": "d564853d",
   "metadata": {},
   "source": [
    "To export a kernel:"
   ]
  },
  {
   "cell_type": "code",
   "execution_count": 3,
   "id": "6681cf50",
   "metadata": {},
   "outputs": [
    {
     "name": "stdout",
     "output_type": "stream",
     "text": [
      "\n",
      "Note: you may need to restart the kernel to use updated packages.\n"
     ]
    }
   ],
   "source": [
    "conda env export > environment.yml"
   ]
  },
  {
   "cell_type": "markdown",
   "id": "cdbcac02",
   "metadata": {},
   "source": [
    "The new \"environment.yml\" file will be created in the same folder."
   ]
  }
 ],
 "metadata": {
  "kernelspec": {
   "display_name": "my_virtual_env",
   "language": "python",
   "name": "python3"
  },
  "language_info": {
   "codemirror_mode": {
    "name": "ipython",
    "version": 3
   },
   "file_extension": ".py",
   "mimetype": "text/x-python",
   "name": "python",
   "nbconvert_exporter": "python",
   "pygments_lexer": "ipython3",
   "version": "3.10.18"
  },
  "toc": {
   "base_numbering": 1,
   "nav_menu": {},
   "number_sections": true,
   "sideBar": true,
   "skip_h1_title": false,
   "title_cell": "Table of Contents",
   "title_sidebar": "Contents",
   "toc_cell": false,
   "toc_position": {},
   "toc_section_display": true,
   "toc_window_display": false
  }
 },
 "nbformat": 4,
 "nbformat_minor": 5
}
