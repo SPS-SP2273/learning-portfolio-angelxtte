{
 "cells": [
  {
   "attachments": {},
   "cell_type": "markdown",
   "id": "123456",
   "metadata": {},
   "source": [
    "<div style=\"text-align:left;font-size:2em\"><span style=\"font-weight:bolder;font-size:1.25em\">SP2273 | Learning Portfolio</span><br><br><span style=\"font-weight:bold;color:darkred\">Files, Folders & OS (Need) Exercises</span></div>"
   ]
  },
  {
   "cell_type": "code",
   "execution_count": 1,
   "id": "0020467d",
   "metadata": {},
   "outputs": [],
   "source": [
    "import os\n",
    "import glob\n",
    "import shutil"
   ]
  },
  {
   "cell_type": "markdown",
   "id": "08c6cdb4",
   "metadata": {},
   "source": [
    "# Exercise 1"
   ]
  },
  {
   "cell_type": "code",
   "execution_count": 18,
   "id": "6a4e7d3c",
   "metadata": {},
   "outputs": [
    {
     "name": "stdout",
     "output_type": "stream",
     "text": [
      "10-08_singapore.txt\n"
     ]
    }
   ],
   "source": [
    "dates = {\n",
    "'jan': '01', 'feb': '02', 'mar': '03',\n",
    "'apr': '04', 'may': '05', 'jun': '06',\n",
    "'jul': '07', 'aug': '08', 'sep': '09',\n",
    "'oct': '10', 'nov': '11', 'dec': '12'\n",
    "}\n",
    "\n",
    "name = \"oct-08_singapore.txt\"\n",
    "if name[0:3] in dates:\n",
    "    name = f\"{dates[name[0:3]]}{name[3:]}\"\n",
    "print(name)"
   ]
  },
  {
   "cell_type": "markdown",
   "id": "950a0cd8",
   "metadata": {},
   "source": [
    "# Exercise 2"
   ]
  },
  {
   "cell_type": "code",
   "execution_count": 20,
   "id": "e0bb3ffd",
   "metadata": {},
   "outputs": [
    {
     "data": {
      "text/plain": [
       "'10-08_singapore.txt'"
      ]
     },
     "execution_count": 20,
     "metadata": {},
     "output_type": "execute_result"
    }
   ],
   "source": [
    "def rename_my_file(old_file_name):\n",
    "    dates = {\n",
    "    'jan': '01', 'feb': '02', 'mar': '03',\n",
    "    'apr': '04', 'may': '05', 'jun': '06',\n",
    "    'jul': '07', 'aug': '08', 'sep': '09',\n",
    "    'oct': '10', 'nov': '11', 'dec': '12'\n",
    "    }\n",
    "    if old_file_name[0:3] in dates:\n",
    "        new_file_name = f\"{dates[old_file_name[0:3]]}{old_file_name[3:]}\"\n",
    "    return new_file_name\n",
    "\n",
    "rename_my_file(\"oct-08_singapore.txt\")"
   ]
  },
  {
   "cell_type": "markdown",
   "id": "6748df0a",
   "metadata": {},
   "source": [
    "# Exercise 3"
   ]
  },
  {
   "cell_type": "code",
   "execution_count": 21,
   "id": "8d7b903b",
   "metadata": {},
   "outputs": [
    {
     "name": "stdout",
     "output_type": "stream",
     "text": [
      "oct-08_singapore.txt ----> 10-08_singapore.txt\n",
      "jul-10_cairo.txt ----> 07-10_cairo.txt\n",
      "may-15_dhaka.txt ----> 05-15_dhaka.txt\n",
      "may-13_cairo.txt ----> 05-13_cairo.txt\n",
      "oct-21_cairo.txt ----> 10-21_cairo.txt\n",
      "jan-10_singapore.txt ----> 01-10_singapore.txt\n",
      "jun-20_tokyo.txt ----> 06-20_tokyo.txt\n",
      "aug-06_jakarta.txt ----> 08-06_jakarta.txt\n",
      "dec-21_karachi.txt ----> 12-21_karachi.txt\n",
      "jan-01_tokyo.txt ----> 01-01_tokyo.txt\n"
     ]
    }
   ],
   "source": [
    "names = ['oct-08_singapore.txt', 'jul-10_cairo.txt', 'may-15_dhaka.txt',\n",
    " 'may-13_cairo.txt', 'oct-21_cairo.txt', 'jan-10_singapore.txt',\n",
    " 'jun-20_tokyo.txt', 'aug-06_jakarta.txt', 'dec-21_karachi.txt',\n",
    " 'jan-01_tokyo.txt']\n",
    "\n",
    "for name in names:\n",
    "    print(f\"{name} ----> {rename_my_file(name)}\")\n"
   ]
  },
  {
   "cell_type": "markdown",
   "id": "5730accf",
   "metadata": {},
   "source": [
    "# Exercise 4"
   ]
  },
  {
   "cell_type": "code",
   "execution_count": 36,
   "id": "1e8f852b",
   "metadata": {},
   "outputs": [],
   "source": [
    "for i in glob.glob(\"os-collaboration-exercise-data\\\\*.txt\"):\n",
    "    folder = os.path.split(i)\n",
    "    os.rename(i, os.path.join(folder[0], rename_my_file(folder[1])))"
   ]
  },
  {
   "cell_type": "markdown",
   "id": "4ad3b2dc",
   "metadata": {},
   "source": [
    "# Exercise 5"
   ]
  },
  {
   "cell_type": "code",
   "execution_count": 37,
   "id": "f2db936a",
   "metadata": {},
   "outputs": [],
   "source": [
    "folders = ['Cairo', 'Dhaka', 'Jakarta', 'Karachi', 'Manila',\n",
    " 'Melbourne', 'Osaka', 'Shanghai', 'Singapore', 'Tokyo']\n",
    "for i in folders: \n",
    "    path = os.path.join(\"os-collaboration-exercise-data\", i)\n",
    "    os.mkdir(path)"
   ]
  },
  {
   "cell_type": "markdown",
   "id": "7d1633c5",
   "metadata": {},
   "source": [
    "# Exercise 6"
   ]
  },
  {
   "cell_type": "code",
   "execution_count": null,
   "id": "99dc550c",
   "metadata": {},
   "outputs": [],
   "source": [
    "!cd os-collaboration-exercise-data\n",
    "for i in glob.glob(\"*cairo*\"):\n",
    "    shutil.copy(i, \"Cairo\")"
   ]
  },
  {
   "cell_type": "markdown",
   "id": "80e0bf0e",
   "metadata": {},
   "source": [
    "# Exercise 7"
   ]
  },
  {
   "cell_type": "code",
   "execution_count": null,
   "id": "b1cbf429",
   "metadata": {},
   "outputs": [],
   "source": [
    "folders = ['Cairo', 'Dhaka', 'Jakarta', 'Karachi', 'Manila',\n",
    " 'Melbourne', 'Osaka', 'Shanghai', 'Singapore', 'Tokyo']\n",
    "for i in glob.glob(\"os-collaboration-exercise-data\\\\*\"):\n",
    "    for country in folders:\n",
    "        if country.lower() in i:\n",
    "            if not os.path.exists(f\"os-collaboration-exercise-data\\\\{country}\\\\{os.path.split(i)[1]}\"):\n",
    "                shutil.move(i, f\"os-collaboration-exercise-data\\\\{country}\")\n",
    "# Copied Cairo Files still in main folder"
   ]
  }
 ],
 "metadata": {
  "kernelspec": {
   "display_name": "base",
   "language": "python",
   "name": "python3"
  },
  "language_info": {
   "codemirror_mode": {
    "name": "ipython",
    "version": 3
   },
   "file_extension": ".py",
   "mimetype": "text/x-python",
   "name": "python",
   "nbconvert_exporter": "python",
   "pygments_lexer": "ipython3",
   "version": "3.13.5"
  },
  "toc": {
   "base_numbering": 1,
   "nav_menu": {},
   "number_sections": true,
   "sideBar": true,
   "skip_h1_title": false,
   "title_cell": "Table of Contents",
   "title_sidebar": "Contents",
   "toc_cell": false,
   "toc_position": {},
   "toc_section_display": true,
   "toc_window_display": false
  }
 },
 "nbformat": 4,
 "nbformat_minor": 5
}
